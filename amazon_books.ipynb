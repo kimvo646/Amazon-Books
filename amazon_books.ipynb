{
  "nbformat": 4,
  "nbformat_minor": 0,
  "metadata": {
    "colab": {
      "provenance": [],
      "toc_visible": true
    },
    "kernelspec": {
      "name": "python3",
      "display_name": "Python 3"
    },
    "language_info": {
      "name": "python"
    }
  },
  "cells": [
    {
      "cell_type": "markdown",
      "source": [
        "# **Amazon Data Science Books Dataset**"
      ],
      "metadata": {
        "id": "UsDrABuHYWz_"
      }
    },
    {
      "cell_type": "markdown",
      "source": [
        "Link github: https://github.com/nguynking/amazon-books"
      ],
      "metadata": {
        "id": "qXDV_WwU9G-H"
      }
    },
    {
      "cell_type": "markdown",
      "source": [
        "# Load dataset"
      ],
      "metadata": {
        "id": "u1fVrt5joKzl"
      }
    },
    {
      "cell_type": "code",
      "source": [
        "import pandas as pd\n",
        "import numpy as np\n",
        "import matplotlib.pyplot as plt\n",
        "import seaborn as sns\n",
        "import plotly.express as px\n",
        "from sklearn.preprocessing import MinMaxScaler\n",
        "%matplotlib inline"
      ],
      "metadata": {
        "id": "btCUEIDaYWln"
      },
      "execution_count": null,
      "outputs": []
    },
    {
      "cell_type": "code",
      "execution_count": null,
      "metadata": {
        "id": "BUPPtBA2YTGF",
        "colab": {
          "base_uri": "https://localhost:8080/"
        },
        "outputId": "c7e1a530-967b-44c7-9db7-5f86bf613d3e"
      },
      "outputs": [
        {
          "output_type": "execute_result",
          "data": {
            "text/plain": [
              "(830, 19)"
            ]
          },
          "metadata": {},
          "execution_count": 42
        }
      ],
      "source": [
        "# Load the dataset\n",
        "# Assuming 'df' is the DataFrame containing the dataset\n",
        "df = pd.read_csv(\"https://raw.githubusercontent.com/nguynking/amazon-books/main/dataset/final_book_dataset_kaggle2.csv\")\n",
        "df.shape"
      ]
    },
    {
      "cell_type": "code",
      "source": [
        "df.info()"
      ],
      "metadata": {
        "colab": {
          "base_uri": "https://localhost:8080/"
        },
        "id": "SHa91cn5s-wH",
        "outputId": "a3aa44e3-1f07-47fd-ec42-7ef1890048e0"
      },
      "execution_count": null,
      "outputs": [
        {
          "output_type": "stream",
          "name": "stdout",
          "text": [
            "<class 'pandas.core.frame.DataFrame'>\n",
            "RangeIndex: 830 entries, 0 to 829\n",
            "Data columns (total 19 columns):\n",
            " #   Column                        Non-Null Count  Dtype  \n",
            "---  ------                        --------------  -----  \n",
            " 0   title                         830 non-null    object \n",
            " 1   author                        657 non-null    object \n",
            " 2   price                         722 non-null    float64\n",
            " 3   price (including used books)  722 non-null    object \n",
            " 4   pages                         745 non-null    object \n",
            " 5   avg_reviews                   702 non-null    float64\n",
            " 6   n_reviews                     702 non-null    object \n",
            " 7   star5                         702 non-null    object \n",
            " 8   star4                         635 non-null    object \n",
            " 9   star3                         554 non-null    object \n",
            " 10  star2                         451 non-null    object \n",
            " 11  star1                         328 non-null    object \n",
            " 12  dimensions                    644 non-null    object \n",
            " 13  weight                        651 non-null    object \n",
            " 14  language                      759 non-null    object \n",
            " 15  publisher                     714 non-null    object \n",
            " 16  ISBN_13                       665 non-null    object \n",
            " 17  link                          830 non-null    object \n",
            " 18  complete_link                 830 non-null    object \n",
            "dtypes: float64(2), object(17)\n",
            "memory usage: 123.3+ KB\n"
          ]
        }
      ]
    },
    {
      "cell_type": "markdown",
      "source": [
        "# **Chương 3:**"
      ],
      "metadata": {
        "id": "WDJuhhG0WRxx"
      }
    },
    {
      "cell_type": "markdown",
      "source": [
        "## 1. Kiểm tra tình trạng bộ dữ liệu gốc\n",
        "\n",
        "Bộ dữ liệu Amazon Data Science Books Dataset được thu thập cần phải kiểm tra các yếu tố về tình trạng đầu vào để làm sạch dữ liệu (Data cleaning/cleansing), loại bỏ nhiễu (remove noise) cũng như hiệu chỉnh những phần dữ liệu không nhất quán (correct data inconsistencies)."
      ],
      "metadata": {
        "id": "ZCGCse_g9UZv"
      }
    },
    {
      "cell_type": "code",
      "source": [
        "print('Chi tiết bộ data')\n",
        "print(df.info())\n",
        "print(f'Số lượng phần tử bộ dữ liệu: {df.size}')\n",
        "print(f'Số dòng và cột của bộ dữ liệu - (dòng, cột): {df.shape}')"
      ],
      "metadata": {
        "colab": {
          "base_uri": "https://localhost:8080/"
        },
        "id": "m03yJcd3WRci",
        "outputId": "48b43bb8-31a8-4a60-b298-77019636232b"
      },
      "execution_count": null,
      "outputs": [
        {
          "output_type": "stream",
          "name": "stdout",
          "text": [
            "Chi tiết bộ data\n",
            "<class 'pandas.core.frame.DataFrame'>\n",
            "RangeIndex: 830 entries, 0 to 829\n",
            "Data columns (total 19 columns):\n",
            " #   Column                        Non-Null Count  Dtype  \n",
            "---  ------                        --------------  -----  \n",
            " 0   title                         830 non-null    object \n",
            " 1   author                        657 non-null    object \n",
            " 2   price                         722 non-null    float64\n",
            " 3   price (including used books)  722 non-null    object \n",
            " 4   pages                         745 non-null    object \n",
            " 5   avg_reviews                   702 non-null    float64\n",
            " 6   n_reviews                     702 non-null    object \n",
            " 7   star5                         702 non-null    object \n",
            " 8   star4                         635 non-null    object \n",
            " 9   star3                         554 non-null    object \n",
            " 10  star2                         451 non-null    object \n",
            " 11  star1                         328 non-null    object \n",
            " 12  dimensions                    644 non-null    object \n",
            " 13  weight                        651 non-null    object \n",
            " 14  language                      759 non-null    object \n",
            " 15  publisher                     714 non-null    object \n",
            " 16  ISBN_13                       665 non-null    object \n",
            " 17  link                          830 non-null    object \n",
            " 18  complete_link                 830 non-null    object \n",
            "dtypes: float64(2), object(17)\n",
            "memory usage: 123.3+ KB\n",
            "None\n",
            "Số lượng phần tử bộ dữ liệu: 15770\n",
            "Số dòng và cột của bộ dữ liệu - (dòng, cột): (830, 19)\n"
          ]
        }
      ]
    },
    {
      "cell_type": "markdown",
      "source": [
        "Ta thấy bộ dữ liệu gồm 830 dòng và 19 cột. Với 2 kiểu dữ liệu chính là: Float (2 thuộc tính), Object (17 thuộc tính).\n"
      ],
      "metadata": {
        "id": "Xl-NuD8gnn8F"
      }
    },
    {
      "cell_type": "markdown",
      "source": [
        "### 1.1. Kiểm tra dữ liệu lặp lại"
      ],
      "metadata": {
        "id": "HrLf6vy-I48B"
      }
    },
    {
      "cell_type": "code",
      "source": [
        "import pandas as pd\n",
        "import numpy as np\n",
        "\n",
        "# Check for duplicates\n",
        "duplicates = df[df.duplicated()]\n",
        "if duplicates.empty:\n",
        "    print(\"No duplicates found.\")\n",
        "else:\n",
        "    print(\"Duplicates found. Rows to be removed:\")\n",
        "    print(duplicates)"
      ],
      "metadata": {
        "colab": {
          "base_uri": "https://localhost:8080/"
        },
        "id": "PHET5oGsBlwQ",
        "outputId": "cafa8116-9332-4b1e-d485-766115b67a0d"
      },
      "execution_count": null,
      "outputs": [
        {
          "output_type": "stream",
          "name": "stdout",
          "text": [
            "No duplicates found.\n"
          ]
        }
      ]
    },
    {
      "cell_type": "markdown",
      "source": [
        "### 1.2. Kiểm tra dữ liệu bị thiếu (missing values)"
      ],
      "metadata": {
        "id": "_yR7eAP-JFx4"
      }
    },
    {
      "cell_type": "code",
      "source": [
        "# Check for missing values\n",
        "missing_values = df.isnull().sum()\n",
        "if missing_values.sum() == 0:\n",
        "    print(\"No missing values found.\")\n",
        "else:\n",
        "    print(\"Missing values found. Columns with missing values:\")\n",
        "    print(missing_values[missing_values > 0])"
      ],
      "metadata": {
        "colab": {
          "base_uri": "https://localhost:8080/"
        },
        "id": "NJnyS-_zCPTm",
        "outputId": "c6336b59-c51e-4fa0-f317-77835f1ce54c"
      },
      "execution_count": null,
      "outputs": [
        {
          "output_type": "stream",
          "name": "stdout",
          "text": [
            "Missing values found. Columns with missing values:\n",
            "author                          173\n",
            "price                           108\n",
            "price (including used books)    108\n",
            "pages                            85\n",
            "avg_reviews                     128\n",
            "n_reviews                       128\n",
            "star5                           128\n",
            "star4                           195\n",
            "star3                           276\n",
            "star2                           379\n",
            "star1                           502\n",
            "dimensions                      186\n",
            "weight                          179\n",
            "language                         71\n",
            "publisher                       116\n",
            "ISBN_13                         165\n",
            "dtype: int64\n"
          ]
        }
      ]
    },
    {
      "cell_type": "markdown",
      "source": [
        "### 1.3. Kiểm tra dữ liệu ngoại lệ (outliers)"
      ],
      "metadata": {
        "id": "_mH3bGL3JMq7"
      }
    },
    {
      "cell_type": "code",
      "source": [
        "# Validate numeric columns for outliers\n",
        "numeric_cols = df.select_dtypes(include=np.number).columns\n",
        "for col in numeric_cols:\n",
        "    # Assuming a simple Z-score based outlier detection method\n",
        "    z_scores = (df[col] - df[col].mean()) / df[col].std()\n",
        "    outliers = df[abs(z_scores) > 3][col]\n",
        "    if outliers.empty:\n",
        "        print(f\"No outliers found in column '{col}'.\")\n",
        "    else:\n",
        "        print(f\"Outliers found in column '{col}':\")\n",
        "        print(outliers)"
      ],
      "metadata": {
        "colab": {
          "base_uri": "https://localhost:8080/"
        },
        "id": "tw1S-MjoCVpK",
        "outputId": "b7e16b8c-68c1-4bc3-93e7-d1582df819ca"
      },
      "execution_count": null,
      "outputs": [
        {
          "output_type": "stream",
          "name": "stdout",
          "text": [
            "Outliers found in column 'price':\n",
            "248     250.63\n",
            "638     743.47\n",
            "677     287.14\n",
            "734    1318.74\n",
            "Name: price, dtype: float64\n",
            "Outliers found in column 'avg_reviews':\n",
            "56     3.0\n",
            "137    1.0\n",
            "258    3.0\n",
            "260    3.0\n",
            "311    2.8\n",
            "343    3.0\n",
            "399    1.0\n",
            "405    3.0\n",
            "637    1.0\n",
            "724    2.7\n",
            "Name: avg_reviews, dtype: float64\n"
          ]
        }
      ]
    },
    {
      "cell_type": "markdown",
      "source": [
        "### 1.4. Kiểm tra định dạng dữ liệu và tính nhất quán của dữ liệu"
      ],
      "metadata": {
        "id": "VwrbbdAxJoEH"
      }
    },
    {
      "cell_type": "code",
      "source": [
        "# Check for data format and consistency (specific to columns)\n",
        "# Validating ISBN-13 format\n",
        "invalid_isbn = df[~df['ISBN_13'].astype(str).str.match(r'^\\d{3}-\\d{10}$')]\n",
        "if invalid_isbn.empty:\n",
        "    print(\"All ISBN-13 codes are in valid format.\")\n",
        "else:\n",
        "    print(\"Invalid ISBN-13 format found:\")\n",
        "    print(list(invalid_isbn['ISBN_13'].unique()))"
      ],
      "metadata": {
        "colab": {
          "base_uri": "https://localhost:8080/"
        },
        "id": "LkUoVJ4MChp3",
        "outputId": "74d30069-14f3-47a5-8e72-694bfd1b2fe5"
      },
      "execution_count": null,
      "outputs": [
        {
          "output_type": "stream",
          "name": "stdout",
          "text": [
            "Invalid ISBN-13 format found:\n",
            "[nan, 'Research in Drama Education', ' ', '$13.99 ', '-34%', '     ', 'Usually ships within 2 to 3 days.', '#NAME?', '#250 in ', '#1 in ', '  Second Edition, Second edition ', '$113.19 ', '-22%', 'The Data Revolution', 'Regulating Alcohol around the World: Policy Cocktails', '-19%', '#35 in ', 'x', '-27%', '79', '99', '-21%', '75', 'Pratip Samanta', '49', '69', '29', '66', '-30%', '  Kindle Edition ', '$139.99 ', '$13.79 ', 'Python', '#372 in ', 'PennyLane', 'JOSH TYSON', '—', '-39%', '59', '39', '-25%', '30', '56', '25']\n"
          ]
        }
      ]
    },
    {
      "cell_type": "code",
      "source": [
        "# Validate URLs in link columns\n",
        "# Check for valid URL format in 'link' and 'complete_link'\n",
        "link_columns = ['complete_link']\n",
        "for col in link_columns:\n",
        "    invalid_urls = df[~df[col].str.startswith('https://www.amazon.com')]\n",
        "    if invalid_urls.empty:\n",
        "        print(f\"All URLs in column '{col}' are valid Amazon URLs.\")\n",
        "    else:\n",
        "        print(f\"Invalid URLs found in column '{col}':\")\n",
        "        print(invalid_urls[col])"
      ],
      "metadata": {
        "colab": {
          "base_uri": "https://localhost:8080/"
        },
        "id": "jA7XPkUeESNS",
        "outputId": "c9cb885a-00a0-4c09-afcb-30782ef6f8a2"
      },
      "execution_count": null,
      "outputs": [
        {
          "output_type": "stream",
          "name": "stdout",
          "text": [
            "All URLs in column 'complete_link' are valid Amazon URLs.\n"
          ]
        }
      ]
    },
    {
      "cell_type": "markdown",
      "source": [
        "## 2. Tiền xử lý dữ liệu"
      ],
      "metadata": {
        "id": "Tbxawc6ZWhtR"
      }
    },
    {
      "cell_type": "markdown",
      "source": [
        "### 2.1. Xử lý định dạng dữ liệu (Data format)"
      ],
      "metadata": {
        "id": "poudyZzISRLT"
      }
    },
    {
      "cell_type": "code",
      "source": [
        "df.info()"
      ],
      "metadata": {
        "colab": {
          "base_uri": "https://localhost:8080/"
        },
        "id": "nSQzlnqI1vbO",
        "outputId": "22c64928-c385-44c9-917a-8a69dbf166ac"
      },
      "execution_count": null,
      "outputs": [
        {
          "output_type": "stream",
          "name": "stdout",
          "text": [
            "<class 'pandas.core.frame.DataFrame'>\n",
            "RangeIndex: 830 entries, 0 to 829\n",
            "Data columns (total 19 columns):\n",
            " #   Column                        Non-Null Count  Dtype  \n",
            "---  ------                        --------------  -----  \n",
            " 0   title                         830 non-null    object \n",
            " 1   author                        657 non-null    object \n",
            " 2   price                         722 non-null    float64\n",
            " 3   price (including used books)  722 non-null    object \n",
            " 4   pages                         745 non-null    object \n",
            " 5   avg_reviews                   702 non-null    float64\n",
            " 6   n_reviews                     702 non-null    object \n",
            " 7   star5                         702 non-null    object \n",
            " 8   star4                         635 non-null    object \n",
            " 9   star3                         554 non-null    object \n",
            " 10  star2                         451 non-null    object \n",
            " 11  star1                         328 non-null    object \n",
            " 12  dimensions                    644 non-null    object \n",
            " 13  weight                        651 non-null    object \n",
            " 14  language                      759 non-null    object \n",
            " 15  publisher                     714 non-null    object \n",
            " 16  ISBN_13                       665 non-null    object \n",
            " 17  link                          830 non-null    object \n",
            " 18  complete_link                 830 non-null    object \n",
            "dtypes: float64(2), object(17)\n",
            "memory usage: 123.3+ KB\n"
          ]
        }
      ]
    },
    {
      "cell_type": "markdown",
      "source": [
        "Biến định lượng: `price (float), pages (int), avg_reviews (float), n_reviews (int), star5 - star1 (float), weight (float)`"
      ],
      "metadata": {
        "id": "6qgZ_ael1y70"
      }
    },
    {
      "cell_type": "markdown",
      "source": [
        "**Biến `weight`:** Đưa tất cả về ounces và chuyển thành kiểu `float`"
      ],
      "metadata": {
        "id": "0_KWdx3nAiBz"
      }
    },
    {
      "cell_type": "code",
      "source": [
        "# 1. weight\n",
        "import re\n",
        "def preprocess_weight(weight):\n",
        "    try:\n",
        "        # Extract numeric values\n",
        "        numeric_value = float(re.findall(r'^(.+) \\w+', weight)[0])\n",
        "\n",
        "        # Check for 'pounds' and convert to ounces\n",
        "        if 'pounds' in weight:\n",
        "            numeric_value *= 16.0  # 1 pound = 16 ounces\n",
        "\n",
        "        return numeric_value\n",
        "    except:\n",
        "        return np.nan  # Return NaN for non-convertible values\n",
        "\n",
        "processed_weight = [preprocess_weight(wei) for wei in df['weight']]\n",
        "df['weight'] = processed_weight\n",
        "\n",
        "# Display the processed weight column\n",
        "print(df['weight'])"
      ],
      "metadata": {
        "colab": {
          "base_uri": "https://localhost:8080/"
        },
        "id": "ZlDPhTLg3cKB",
        "outputId": "b4be437d-7b02-4464-ec1a-d61c493befab"
      },
      "execution_count": null,
      "outputs": [
        {
          "output_type": "stream",
          "name": "stdout",
          "text": [
            "0      40.48\n",
            "1      31.36\n",
            "2      22.40\n",
            "3      23.52\n",
            "4      20.80\n",
            "       ...  \n",
            "825    15.50\n",
            "826    36.00\n",
            "827    17.60\n",
            "828      NaN\n",
            "829      NaN\n",
            "Name: weight, Length: 830, dtype: float64\n"
          ]
        }
      ]
    },
    {
      "cell_type": "markdown",
      "source": [
        "**Biến `star5 - star1`:** Chuyển giá trị trong các cột `star` từ phần trăm về dạng thập phân"
      ],
      "metadata": {
        "id": "UOlLoESm-oGs"
      }
    },
    {
      "cell_type": "code",
      "source": [
        "# 2. star5 - star1 (float)\n",
        "star_columns = ['star5', 'star4', 'star3', 'star2', 'star1']\n",
        "def preprocess_star(value):\n",
        "    try:\n",
        "        # Extract numeric values\n",
        "        numeric_value = float(value) / 100.0\n",
        "        return numeric_value\n",
        "    except:\n",
        "        return np.nan  # Return NaN for non-convertible values\n",
        "\n",
        "for col in star_columns:\n",
        "    df[col] = [preprocess_star(value) for value in df[col].str.replace(r'%', '')]"
      ],
      "metadata": {
        "id": "Cm9mgzC2A6mo"
      },
      "execution_count": null,
      "outputs": []
    },
    {
      "cell_type": "markdown",
      "source": [
        "**Biến `n_reviews`:** Xóa dấu `,` trong cột `n_reviews` và chuyển về kiểu `int`"
      ],
      "metadata": {
        "id": "gyKvbm13-6R-"
      }
    },
    {
      "cell_type": "code",
      "source": [
        "# 3. n_reviews (int)\n",
        "df['n_reviews'] = df['n_reviews'].str.replace(r',', '', regex=True).astype(\"Int64\")"
      ],
      "metadata": {
        "id": "6O0CmweaF8uU"
      },
      "execution_count": null,
      "outputs": []
    },
    {
      "cell_type": "markdown",
      "source": [
        "**Biến `pages`:** Xóa dấu `,` và chuyển về kiểu `int`"
      ],
      "metadata": {
        "id": "dBSWoemk_YFz"
      }
    },
    {
      "cell_type": "code",
      "source": [
        "# 4. pages (int)\n",
        "df['pages'] = df['pages'].str.replace(r',', '', regex=True)\n",
        "\n",
        "def preprocess_pages(value):\n",
        "    try:\n",
        "        # Extract numeric values\n",
        "        numeric_value = float(value)\n",
        "        return numeric_value\n",
        "    except:\n",
        "        return np.nan  # Return NaN for non-convertible values\n",
        "\n",
        "df['pages'] = [preprocess_pages(value) for value in df['pages']]\n",
        "df['pages'] = df['pages'].astype(\"Int64\")"
      ],
      "metadata": {
        "id": "dPiY-XpNPPQZ"
      },
      "execution_count": null,
      "outputs": []
    },
    {
      "cell_type": "markdown",
      "source": [
        "### **Biến định tính: `title, author, dimensions, language, publisher, ISBN_13, link, complete_link`**\n",
        "\n",
        "**Split Multiple Authors:** If there are multiple authors separated by a comma, you can split them into separate strings or create a list of authors for each book.\n",
        "\n",
        "**Remove Extra Characters:** Eliminate any additional characters such as brackets, quotes, or et al. (if they're not meaningful) to clean the author names.\n",
        "\n",
        "**Handle Missing Values:** If there are NaN or empty values, you might choose to replace them with a default value or perform imputation.\n",
        "\n",
        "**Normalize Names:** Ensure consistency in author names by standardizing them. For example, converting all names to title case.\n",
        "\n",
        "**Create Binary Flags:** If needed, create binary flags indicating whether a book has multiple authors or not."
      ],
      "metadata": {
        "id": "dpqeXrd8SiOr"
      }
    },
    {
      "cell_type": "markdown",
      "source": [
        "1. Biến `title`"
      ],
      "metadata": {
        "id": "Ow2-7FbRBEGy"
      }
    },
    {
      "cell_type": "code",
      "source": [
        "# 1. title\n",
        "df['title'].isna().sum()"
      ],
      "metadata": {
        "colab": {
          "base_uri": "https://localhost:8080/"
        },
        "id": "34RScIxzJ-i-",
        "outputId": "ce79c78e-5d95-4e0b-eeb1-d16a8732eeb0"
      },
      "execution_count": null,
      "outputs": [
        {
          "output_type": "execute_result",
          "data": {
            "text/plain": [
              "0"
            ]
          },
          "metadata": {},
          "execution_count": 55
        }
      ]
    },
    {
      "cell_type": "markdown",
      "source": [
        "2. Biến `author`"
      ],
      "metadata": {
        "id": "IzkvQ5ClBItq"
      }
    },
    {
      "cell_type": "code",
      "source": [
        "# 2. author\n",
        "df['author'].unique()"
      ],
      "metadata": {
        "colab": {
          "base_uri": "https://localhost:8080/"
        },
        "id": "DQhloEZVSySv",
        "outputId": "e8565e8d-74e8-4ea9-8f5a-edc1ff3ebf9f"
      },
      "execution_count": null,
      "outputs": [
        {
          "output_type": "execute_result",
          "data": {
            "text/plain": [
              "array(['[ Dr Dhaval Maheta]', nan, '[ Oz du Soleil,  and , Bill Jelen]',\n",
              "       '[ William McKinney]', '[ Paul McFedries]', '[ Cathy Tanimura]',\n",
              "       '[ Matthew B. Miles, A. Michael Huberman, et al.]',\n",
              "       '[ Gunnar Carlsson,  and , Mikael Vejdemo-Johansson]',\n",
              "       '[ Robert I. Kabacoff]', '[ Chad Knowles]',\n",
              "       '[ Programming Languages Academy, Matthew Kinsey, et al.]',\n",
              "       '[ Ekaterina Kochmar]', '[ Walter Shields]',\n",
              "       '[ Programming Languages Academy]',\n",
              "       '[ Antoine Jacquier, Oleksiy Kondratyev, et al.]', '[ Dan Bader]',\n",
              "       '[ Allen B. Downey]', '[ Jake VanderPlas]', '[ Nicolas Vandeput]',\n",
              "       '[ Lee Vaughan]', '[ Luciano Ramalho]', '[ Leonard J. Ledger]',\n",
              "       '[ Mike Cohen]', '[ Jonelle Hoop]', '[ DK]',\n",
              "       '[ Charles R. Severance, Aimee Andrion, et al.]',\n",
              "       '[ Donald P. Wilson]', '[ Yves Hilpisch]', '[ Yuli Vasiliev]',\n",
              "       '[ Ronald T. Kneusel]', '[ Scott Mccoy]', '[ Patrick Viafore]',\n",
              "       '[ JOE WEBINAR]', '[ Jules Damji, Brooke Wenig, et al.]',\n",
              "       '[ Benjamin Bengfort, Rebecca Bilbro, et al.]',\n",
              "       '[ Tarek A. Atwan]', '[ Anthony DeBarros]', '[ John Tukey]',\n",
              "       '[ Gwen Shapira, Todd Palino, et al.]',\n",
              "       '[ Lisa Daniels,  and , Nicholas W. Minot]', '[ Mike Girvin]',\n",
              "       '[ Andrew Park,  and , Russell Newton]',\n",
              "       '[ Neal Ford, Mark Richards, et al.]',\n",
              "       '[ Stephen P. Borgatti, Martin G. Everett, et al.]',\n",
              "       '[ Mark Reed]', '[ MG Martin, Peter Prova, et al.]',\n",
              "       '[ Rituraj Dixit]', '[ Paul Deitel,  and , Harvey Deitel]',\n",
              "       '[ Stefanie Molin]', '[ Virginia Braun,  and , Victoria Clarke]',\n",
              "       '[ Al Sweigart]', '[ Mark Allen Weiss]',\n",
              "       '[ Kupe Kupersmith, Paul Mulvey, et al.]', '[ Santos Ozoemena]',\n",
              "       '[ Mike Chapple,  and , Sharif Nijim]', '[ Lara Ozkan]',\n",
              "       '[ Cheng Hsiao]', '[ Andrie de Vries,  and , Joris Meys]',\n",
              "       '[ Michael Alexander]',\n",
              "       '[ Paul F. Magnone, Christopher J. Frank, et al.]',\n",
              "       '[ Arthur Fletcher]', '[ Ronald H. Heck, Scott L. Thomas, et al.]',\n",
              "       '[ Toby Culshaw]', '[ Meinard Müller]',\n",
              "       '[ Scott E. Page, Jamie Renell, et al.]', '[ Alan Agresti]',\n",
              "       '[ Rupert Morrison]', '[ Computer Science Academy]',\n",
              "       '[ Joseph Schmuller]', '[ John K. Thompson]', '[ Mark Gardener]',\n",
              "       '[ F. Gregory Ashby]', '[ Scott V. Burger]',\n",
              "       '[ Radhika Datar,  and , Harish Garg]',\n",
              "       '[ Michelle Suzanne Salmona, Eli Lieber, et al.]',\n",
              "       '[ Kristi Jackson,  and , Pat Bazeley]', '[ Agresti]',\n",
              "       '[ Johan Gabrielsson,  and , Daniel Weiner]',\n",
              "       '[ Sylvia Moestl Vasilik]', '[ PBR Books]', '[ Dr. Rob Kabacoff]',\n",
              "       '[ Melanie Feinberg]',\n",
              "       '[ Andreas Lindholm, Niklas Wahlström, et al.]',\n",
              "       '[ Armando Fandango]', '[ Joshua Saxe,  and , Hillary Sanders]',\n",
              "       '[ Jeffrey M. Wooldridge]', '[ Alvaro Fuentes]',\n",
              "       '[ Alexey Grigorev]', '[ Upom Malik, Matt Goldwasser, et al.]',\n",
              "       '[ Benjamin Zeldovich]', '[ Joel Grus]',\n",
              "       '[ \"Cathy ONeil\",  and , Rachel Schutt]',\n",
              "       '[ Philip H. Pollock,  and , Barry Clayton Edwards]',\n",
              "       '[ Megan Torrance]', '[ J. Scott Long]', '[ Farrokh Alemi]',\n",
              "       '[ David Howe]', '[ Rafael A. Irizarry,  and , Michael I. Love]',\n",
              "       '[ John W. Foreman]', '[ Sarah Lamdan]',\n",
              "       '[ Markus Schellander, Chris Johnson, et al.]',\n",
              "       '[ S. Christian Albright,  and , Wayne L. Winston]',\n",
              "       '[ Michael Collins]', '[ Robert Campbell]',\n",
              "       '[ Peggy Warren, Susan Wright, et al.]', '[ Robert Johnson]',\n",
              "       '[ Unmesh Gundecha,  and , Carl Cocchiaro]', '[ Estelle Scifo]',\n",
              "       '[ PROGRAMMING LANGUAGES ACADEMY]', '[ Jean-Francois Collard]',\n",
              "       '[ Silas Toms, Bill Parker, et al.]', '[ Burge, James H., et al.]',\n",
              "       '[ Marc Wintjen,  and , Andrew Vlahutin]',\n",
              "       '[ Roxy Peck, Chris Olsen, et al.]', '[ Giuseppe Ciaburro]',\n",
              "       '[ Simon Asplen-Taylor]', '[ RICHARD STEVE]', '[ Wayne B. Nelson]',\n",
              "       '[ Dmitry Vostokov,  and , Software Diagnostics Institute]',\n",
              "       '[ Gary Koop]', '[ Cliff Ragsdale]',\n",
              "       '[ Michael Mitzenmacher,  and , Eli Upfal]',\n",
              "       '[ Philipp K. Janert]', '[ Kristin H. Jarman]',\n",
              "       '[ Lyn D. Sharratt,  and , Michael Fullan]',\n",
              "       '[ Abhijit Mohanta,  and , Anoop Saldanha]', '[ Tonny J. Oyana]',\n",
              "       '[ Winston Chang]', '[ Michael Friendly,  and , Howard Wainer]',\n",
              "       '[ Charles D. Ghilani]', '[ Jamie Keet]', '[ Khameel B. Mustapha]',\n",
              "       '[ Olaf Behnke, Kevin Kröninger, et al.]',\n",
              "       '[ Robert D. Gibbons,  and , Donald Hedeker]',\n",
              "       '[ Martin Kleppmann]', '[ Sonyl Nagale]', '[ Inc. BarCharts]',\n",
              "       '[ Jan Lukavsky]', '[ Andres Fortino PhD]',\n",
              "       '[ Norman Fenton,  and , Martin Neil]',\n",
              "       '[ Vitor Bianchi Lanzetta, Nataraj Dasgupta, et al.]',\n",
              "       '[ Mike Grigsby]', '[ Áine Humble,  and , Elise Radina]',\n",
              "       '[ Shashikant Kulkarni,  and , Somak Roy]', '[ Dylan Penny]',\n",
              "       '[ Bernard Marr]', '[ Blaine Bateman, Saikat Basak, et al.]',\n",
              "       '[ Yu Xie,  and , Daniel Powers]',\n",
              "       '[ Avinash Navlani, Armando Fandango, et al.]',\n",
              "       '[ Joshua N. Milligan, Blair Hutchinson, et al.]',\n",
              "       '[ Alfred Z. Spector, Peter Norvig, et al.]',\n",
              "       '[ Fred Ramsey,  and , Daniel Schafer]',\n",
              "       '[ Franzi Korner-Nievergelt, Tobias Roth, et al.]',\n",
              "       '[ Haksun Li  PhD]', '[ Benjamin Farrar,  and , Ryan Simpson]',\n",
              "       '[ Thomas H. Cormen, Charles E. Leiserson, et al.]',\n",
              "       '[ Brian Larson]', '[ Erica Thompson]', '[ Ashish Kumar]',\n",
              "       '[ Paul Houghton]', '[ Soheil Bakhshi,  and , Christian Wade]',\n",
              "       '[ Kieran Healy]', '[ Sergio Rey, Dani Arribas-Bel, et al.]',\n",
              "       '[ Todd E. Hudson]', '[ Matthew A. Barsalou]',\n",
              "       '[ Michael C. Whitlock,  and , Dolph Schluter]',\n",
              "       '[ Yulei He, Guangyu Zhang, et al.]', '[ Joel Lawhead]',\n",
              "       '[ Steve Nico Williams]', '[ Codeone Publishing]',\n",
              "       '[ Carol Grbich]', '[ Wayne Winston]',\n",
              "       '[ Wan Tang, Hua He, et al.]', '[ Rob Kitchin]',\n",
              "       '[ Vince Buffalo]', '[ Ivan Marin, Ankit Shukla, et al.]',\n",
              "       '[ Jordan Morrow]', '[ Jeff Owen]', '[ Patrik Borosch]',\n",
              "       '[ Andrew J. Nash]', '[ TechExp Academy]', '[ Mark Weiss]',\n",
              "       '[ Jay Wengrow]', '[ Brian  WIll]', '[ Liam DeSantis]',\n",
              "       '[ Danil Zburivsky,  and , Lynda Partner]', '[ James Evans]',\n",
              "       '[ Matthew Weston]', '[ ROBERT  J GREEN]',\n",
              "       '[ Folgert Karsdorp, Mike Kestemont, et al.]', '[ Leonard Webb]',\n",
              "       '[ Rachel Boba Santos]',\n",
              "       '[ Judith D. Singer,  and , John B. Willett]', '[ Mik Arduino]',\n",
              "       '[ Rick J. Scavetta,  and , Boyan Angelov]',\n",
              "       '[ Bill Inmon,  and , Ranjeet Srivastava]',\n",
              "       '[ Ravindranatha Anthapu]', '[ Nigel Tillery]',\n",
              "       '[ Raul Rabadan,  and , Andrew J. Blumberg]',\n",
              "       '[ Wayne L. Winston, Scott Nestler, et al.]',\n",
              "       '[ Victoria L. Bernhardt]',\n",
              "       '[ R. Lyman Ott,  and , Micheal T. Longnecker]',\n",
              "       '[ Eryk Lewinson]', '[ Andrew Nguyen]', '[ Susanne Friese]',\n",
              "       '[ Ken Shepard]', '[ Barry Adams]', '[ Kevin Cooper]',\n",
              "       '[ Stylianos Kampakis]',\n",
              "       '[ John Paul Mueller,  and , Luca Massaron]',\n",
              "       '[ Jens Albrecht, Sidharth Ramachandran, et al.]',\n",
              "       '[ Stefan Timmermans,  and , Iddo Tavory]',\n",
              "       '[ Bill Schmarzo,  and , Dr. Kirk Borne]',\n",
              "       '[ James B. Schreiber PhD,  and , Melanie Turk PhD  MSN  RN]',\n",
              "       '[ Kimberly Wienzierl]', '[ Pat Bazeley]', '[ Richard Cotton]',\n",
              "       '[ Tiffany Bergin]', '[ Zhamak Dehghani]', '[ Michael Isichenko]',\n",
              "       '[ Jonathan Reichental]', '[ Jim Frost]',\n",
              "       '[ Kenneth Stehlik-Barry,  and , Anthony J. Babinec]',\n",
              "       '[ Konrad Banachewicz, Luca Massaron, et al.]', '[ Will Kurt]',\n",
              "       '[ Denise Polit]', '[ Florent Buisson]',\n",
              "       '[ Stefanie Molin,  and , Ken Jee]', '[ Dick Kusleika]',\n",
              "       '[ Peter Bruce, Andrew Bruce, et al.]',\n",
              "       '[ Charles M. Judd, Gary H. McClelland, et al.]',\n",
              "       '[ Stanley Lemeshow, Susanne May, et al.]',\n",
              "       '[ John Slavio, Dave Wright, et al.]',\n",
              "       '[ Tamal Krishna Dey,  and , Yusu Wang]',\n",
              "       '[ Russell Lundholm,  and , Richard Sloan]', '[ Bogumil Kaminski]',\n",
              "       '[ Felix Zumstein]', '[ Wayne L. Winston]',\n",
              "       '[ John Wright,  and , Yi Ma]', '[ Bernie Hogan]',\n",
              "       '[ John Canning, Alan Broder, et al.]', '[ Rice]',\n",
              "       '[ Garrett Grolemund,  and , Hadley Wickham]', '[ Aileen Nielsen]',\n",
              "       '[ Marco Peixeiro]', '[ Nick Singh,  and , Kevin Huo]',\n",
              "       '[ Cole Nussbaumer Knaflic]',\n",
              "       '[ Ethan Bueno de Mesquita,  and , Anthony Fowler]',\n",
              "       '[ Tim Harford,  and , Penguin Audio]', '[ Thomas Nield]',\n",
              "       '[ Jonathan Rioux]', '[ Renee M. P. Teate]',\n",
              "       '[ Ajit Tamhane,  and , Dorothy Dunlop]', '[ Alberto Scappini]',\n",
              "       '[ Jack Merrin]', '[ JD Long,  and , Paul Teetor]',\n",
              "       '[ Bonny McClain]', '[ Gordon S. Linoff]',\n",
              "       '[ Stephen J. Wright,  and , Benjamin Recht]',\n",
              "       '[ Devin Knight, Mitchell Pearson, et al.]',\n",
              "       '[ Ashish Ranjan Jha,  and , Dr. Gopinath Pillai]',\n",
              "       '[ Cheryl James-Ward, Douglas Fisher, et al.]',\n",
              "       '[ Nagaraj Venkatesan,  and , Ahmad Osama]',\n",
              "       '[ Adam Frost, Tobias Sturt, et al.]',\n",
              "       '[ Matt Harrison,  and , Theodore Petrou]', '[ Mr Patrick Cuba]',\n",
              "       '[ Nipun Jaswal]',\n",
              "       '[ Gaurav Agarwal, Meenakshi Muralidharan, et al.]',\n",
              "       '[ Greg Deckler]', '[ Elias Dabbas]', '[ Marcello La Rocca]',\n",
              "       '[ Kousik Roy]', '[ Aristides S Bouras]',\n",
              "       '[ Michiel Rozema,  and , Henk Vlootman]', '[ Kris Pearson]',\n",
              "       '[ Gábor Békés,  and , Gábor Kézdi]', '[ Wes McKinney]',\n",
              "       '[ Elena Llaudet,  and , Kosuke Imai]', '[ Sinchan Banerjee]',\n",
              "       '[ Jiawei Han, Jian Pei, et al.]',\n",
              "       '[ Angelika Klidas,  and , Kevin Hanegan]',\n",
              "       '[ John C. Shovic,  and , Alan Simpson]',\n",
              "       '[ David Amos, Dan Bader, et al.]', '[ Cory Reed]',\n",
              "       '[ Bill Lubanovic]', '[ Justin Seitz,  and , Tim Arnold]',\n",
              "       '[ Jason R. Briggs]', '[ Aristides Bouras]',\n",
              "       '[ Johannes Ernesti,  and , Peter Kaiser]',\n",
              "       '[ Adam Schroeder, Christian Mayer, et al.]', '[ Eric Matthes]',\n",
              "       '[ Jaime Buelta]', '[ Lee Andrew (Andy) Harrison]',\n",
              "       '[ David Sale]', '[ Johnny Wei-Bing Lin, Hannah Aizenman, et al.]',\n",
              "       '[ Jeremy G. Siek]', '[ Ted Hart-Davis,  and , Guy Hart-Davis]',\n",
              "       '[ Corey Wade, Mario Corchero Jimenez, et al.]',\n",
              "       '[ Christian Mayer]', '[ Howard E. Poston III]', '[ Paul Barry]',\n",
              "       '[ Daniel Nelson]', '[ Noah Gift, Kennedy Behrman, et al.]',\n",
              "       '[ The Tech Academy, Jack C. Stanley, et al.]',\n",
              "       '[ Sulekha AloorRavi]', '[ Francois Chollet, Mark Thomas, et al.]',\n",
              "       '[ Antonio Mele,  and , Bob Belderbos]', '[ Perry Xiao]',\n",
              "       '[ Micha Gorelick,  and , Ian Ozsvald]',\n",
              "       '[ Joel Murach,  and , Michael Urban]',\n",
              "       '[ Sayan Mukhopadhyay,  and , Pratip Samanta]', '[ Tony Snake]',\n",
              "       '[ Chibudom Obasi]', '[ Rakesh Nayak,  and , Nishu Gupta]',\n",
              "       '[ Jiri Pik,  and , Sourav Ghosh]', '[ Julien Danjou]',\n",
              "       '[ Jacqueline Silverdale]', '[ Abdullah Karasan]', '[ Rob Miles]',\n",
              "       '[ Bradley N. Miller, David L. Ranum, et al.]',\n",
              "       '[ Paul A. Zandbergen]', '[ Ashraf Marks]', '[ Jentezen Franklin]',\n",
              "       '[ Sean McManus]', '[ Quan Nguyen]', '[ Corinth Ruiz]',\n",
              "       '[ Fabrizio Romano,  and , Heinrich Kruger]',\n",
              "       '[ Sujay Raghavendra]', '[ Maxwell Flitton]',\n",
              "       '[ Sid James, Ben Way, et al.]', '[ Ray Salemi]',\n",
              "       '[ Craig Richardson]', '[ Jesse M. Kinder,  and , Philip Nelson]',\n",
              "       '[ Steven F. Lott]', '[ Gonczarowski Yannai A.]',\n",
              "       '[ Gurney Brown]', '[ Jason Cannon]', '[ Seth Weidman]',\n",
              "       '[ Gary Smart]', '[ V Kishore Ayyadevara,  and , Yeshwanth Reddy]',\n",
              "       '[ Soledad Galli]', '[ Kyran Dale]', '[ Manu Joseph]',\n",
              "       '[ Kenneth Reitz,  and , Tanya Schlusser]', '[ Mark Myers]',\n",
              "       '[ Paul Orland]', '[ John Paul Mueller]',\n",
              "       '[ Bob McCabe, Eric Idle, et al.]',\n",
              "       '[ Brian Christian, Tom Griffiths, et al.]',\n",
              "       '[ Raman Publications, R Raman, et al.]', '[ Aurélien Géron]',\n",
              "       '[ Sheena Vaidyanathan]', '[ Eugenia Bahit]', '[ Justin Seitz]',\n",
              "       '[ Eric Chou]', '[ tony snake]', '[ Raven Black]',\n",
              "       '[ Bradley N. Miller,  and , David L. Ranum]',\n",
              "       '[ Keeper L. Sharkey, Alain Chance, et al.]', '[ Tiago Antao]',\n",
              "       '[ \"Mark OShea\"]', '[ Nathan Metzler]', '[ Harry Percival]',\n",
              "       '[ Meg Ray, Odd Dot, et al.]', '[ April Speight]',\n",
              "       '[ Alex J. Gutman,  and , Jordan Goldmeier]',\n",
              "       '[ Tiago Rodrigues Antao]', '[ Dr Martin Jones]', '[ Mark Fenner]',\n",
              "       '[ Frederick Kaefer,  and , Paul Kaefer]', '[ Kolawole Mangabo]',\n",
              "       '[ ADRIENNE HAWKES MATTHES,  and , JOHN TACKE]', '[ Simon Monk]',\n",
              "       '[ Naomi Ceder]', '[ George Mount]', '[ Ken Youens-Clark]',\n",
              "       '[ ERICK THOMPSON]', '[ Osvaldo Martin]',\n",
              "       '[ Sherwin John C. Tragura]',\n",
              "       '[ Xudong Ma, Vishakh Hegde, et al.]', '[ Michael Walker]',\n",
              "       '[ Luther S. Moore]', '[ Ben Shaw, Saurabh Badhwar, et al.]',\n",
              "       '[ David Morgan,  and , John Oliver]', '[ Amit Saha]',\n",
              "       '[ Doug Farrell]', '[ Denis Rothman]', '[ Vedat Ozan Oner]',\n",
              "       '[ Dr. Basant Agarwal]', '[ Doug Bierer,  and , Cal Evans]',\n",
              "       '[ Jeff Prosise]',\n",
              "       '[ Oliver R. Simpson,  and , Code Developer Academy]',\n",
              "       '[ Timothy C. Needham]', '[ Robert Johansson]',\n",
              "       '[ Johnathan Rand]', '[ Mohamed Abdelaziz]', '[ Christian Hill]',\n",
              "       '[ Duygu Altinok]', '[ Steven Bird, Ewan Klein, et al.]',\n",
              "       '[ Vittorio Lora]', '[ Ryan Mitchell]',\n",
              "       '[ G. R. Kanagachidambaresan]', '[ Michael Dawson]',\n",
              "       '[ Michael Urban, Joel Murach, et al.]', '[ Robert Loredo]',\n",
              "       '[ Corey Wade,  and , Kevin Glynn]', '[ Zhenya Antić]',\n",
              "       '[ Matthew Fowler]', '[ Jack Stanley, Erik Gross, et al.]',\n",
              "       '[ Meredith Beck]', '[ Wolfram Donat]', '[ Tony Gaddis]',\n",
              "       '[ David Kopec]', '[ Michelle Yates]',\n",
              "       '[ Steven F. Lott,  and , Dusty Phillips]', '[ C.P.A Inc]',\n",
              "       '[ Willard D. Sanders]', '[ Caleb Hattingh]', '[ John V. Guttag]',\n",
              "       '[ Kunal Sawarkar]', '[ Edcorner Learning]',\n",
              "       '[ Gilit Saporta,  and , Shoshana Maraney]',\n",
              "       '[ Bradford Tuckfield]', '[ Eric Chou, Michael Kennedy, et al.]',\n",
              "       '[ Graham Chapman, Eric Idle, et al.]',\n",
              "       '[ Alex Bradbury,  and , Ben Everard]', '[ Anthony Shaw]',\n",
              "       '[ Stef Maruch,  and , Aahz Maruch]', '[ Oliver Moore]',\n",
              "       '[ Daniel Zingaro]', '[ Mattan Griffel,  and , Daniel Guetta]',\n",
              "       '[ Nichola Lacey]', '[ AI Publication]', '[ David Jordan]',\n",
              "       '[ Donald Norris]', '[ Brian Okken]',\n",
              "       '[ Changquan Huang,  and , Alla Petukhina]',\n",
              "       '[ Etta Kaner,  and , Phil Nicholls]', '[ Patricia Foster]',\n",
              "       '[ Eric Wall]', '[ David Landup]', '[ Rafal Leszko]',\n",
              "       '[ Abound Academy]', '[ Alan D. Moore]', '[ Jose Haro Peralta]',\n",
              "       '[ Abhishek  Singh,  and , Zohaib Hasan]', '[ Adrienne Tacke]',\n",
              "       '[ Angel Pablo Hinojosa Gutiérrez]', '[ Lee Andrew Harrison]',\n",
              "       '[ James R. Parker PhD]',\n",
              "       '[ Holden Karau,  and , Boris Lublinsky]', '[ Florian Dedov]',\n",
              "       '[ Harry Percival,  and , Bob Gregory]', '[ Sofien Kaabar]',\n",
              "       '[ Alex Martelli, Anna Ravenscroft, et al.]',\n",
              "       '[ Clive Campbell,  and , Austin R Stoler]', '[ Francois Chollet]',\n",
              "       '[ Berajah Jayne]', '[ Jason C McDonald]', '[ Enes Bilgin]',\n",
              "       '[ Joseph Howse,  and , Joe Minichino]', '[ Skov Bash]',\n",
              "       '[ John Erickson]', '[ Konrad Banachewicz,  and , Luca Massaron]',\n",
              "       '[ Steven L. Brunton,  and , J. Nathan Kutz]', '[ Gordon Summers]',\n",
              "       '[ Nathan George]', '[ Chip Huyen]',\n",
              "       '[ Chris Fregly,  and , Antje Barth]',\n",
              "       '[ Jike Chong,  and , Yue Cathy Chang]',\n",
              "       '[ Joe Reis,  and , Matt Housley]', '[ Jeremy Kubica]',\n",
              "       '[ Emily Robinson, Jacqueline Nolis, et al.]',\n",
              "       '[ Jonathan Schwabish]', '[ Brian Godsey]',\n",
              "       '[ Foster Provost, Tom Fawcett, et al.]', '[ Cory Althoff]',\n",
              "       '[ Peter Bruce,  and , Andrew Bruce]',\n",
              "       '[ Brandeis Hill Marshall,  and , Timnit Gebru]',\n",
              "       '[ Christopher Hian-ann Ting]', '[ David Spiegelhalter]',\n",
              "       '[ Dan Bouk]', '[ Hariom Tatsat, Sahil Puri, et al.]',\n",
              "       '[ Valliappa Lakshmanan]', '[ Piyanka Jain,  and , Puneet Sharma]',\n",
              "       '[ Ville Tuulos]', '[ Will Carroll, Tyler Brooke, et al.]',\n",
              "       '[ Klaus Hoeyer]', '[ Douglas B. Laney]', '[ Shrilata Murthy]',\n",
              "       '[ Justin Grimmer, Margaret E. Roberts, et al.]', '[ Dr. Briit]',\n",
              "       '[ Robb Wilson,  and , Josh Tyson]',\n",
              "       '[ Rama Chellappa,  and , Eric Niiler]',\n",
              "       '[ Michael Bowen,  and , Anthony Bartley]',\n",
              "       '[ Roger Peng,  and , Elizabeth Matsui]',\n",
              "       '[ Ross Zowler, Cyrus Carey, et al.]', '[ Alex Gorelik]',\n",
              "       '[ François Voron]', '[ Jeremy Adamson]',\n",
              "       '[ Chip Heath,  and , Karla Starr]',\n",
              "       '[ Ramesh Sharda, Dursun Delen, et al.]', '[ Santanu Ganguly]',\n",
              "       '[ Ray Dalio]', '[ Vidya Setlur,  and , Bridget Cogley]',\n",
              "       '[ Nir Kaldero, Derek Perkins, et al.]',\n",
              "       '[ EMC Education Services]', '[ Abby Jame]',\n",
              "       '[ Rikin Mathur, Varun Bhartia, et al.]',\n",
              "       '[ Daniel Situnayake,  and , Jenny Plunkett]',\n",
              "       '[ Scott Mongeau,  and , Andrzej Hajdasinski]',\n",
              "       '[ Peter C. Bruce,  and , Grant Fleming]',\n",
              "       '[ Kevin Snow,  and , John Vogl]',\n",
              "       '[ Nina Zumel,  and , John Mount]',\n",
              "       '[ Ajay Agrawal, Joshua Gans, et al.]',\n",
              "       '[ Anthony So, Thomas V. Joseph, et al.]', '[ Maverick Lin]',\n",
              "       '[ Caroline Criado Perez]', '[ Barr Moses, Lior Gavish, et al.]',\n",
              "       '[ Deborah Nolan,  and , Sara Stoudt]',\n",
              "       '[ Irene Aldridge,  and , Marco Avellaneda]', '[ Ian Horne]',\n",
              "       '[ Andreas Botsikas,  and , Michael Hlobil]',\n",
              "       '[ Roland Wenzlofsky,  and , Artemios Vogiatzis]',\n",
              "       '[ Jamal H. Qadri Ph.D.]', '[ Andriy Burkov]',\n",
              "       '[ Roman Zykov, Vladimir Vishvanyuk, et al.]', '[ Richard Wilson]',\n",
              "       '[ Christopher M. Bishop]', '[ Chirag Shah]', '[ Ben Wilson]',\n",
              "       '[ Davy Cielen, Arno Meysman, et al.]',\n",
              "       '[ William Gray, Damon Knox, et al.]',\n",
              "       '[ Harvard Business Review]',\n",
              "       '[ Valliappa Lakshmanan, Sara Robinson, et al.]',\n",
              "       '[ Lewis Tunstall, Leandro von Werra, et al.]',\n",
              "       '[ Mathangi Sri Ramachandran]', '[ Orly Lobel]',\n",
              "       '[ Seth Stephens-Davidowitz]', '[ Matt Parker]',\n",
              "       '[ Sumit Gupta, Sylvester Pinto, et al.]',\n",
              "       '[ Information Resources Management Association]',\n",
              "       '[ Akash Tandon, Sandy Ryza, et al.]',\n",
              "       '[ Josh Diakun, Paul R Johnson, et al.]', '[ Yoon Hyup Hwang]',\n",
              "       '[ Richard Wiener]', '[ Bill Inmon, Patty Haines, et al.]',\n",
              "       '[ Ben Weber]', '[ Ewen Harrison,  and , Riinu Pius]',\n",
              "       '[ Kirsten Martin]', '[ Aditya Bhargava]',\n",
              "       '[ Jessica Fries-Gaither]',\n",
              "       '[ Carl T. Bergstrom,  and , Jevin D. West]', '[ Nasir Ali Mirza]',\n",
              "       '[ Gareth Eagar]', '[ Mary-Jo Diepeveen]',\n",
              "       '[ Amit Phaltankar, Juned Ahsan, et al.]', '[ Alex Campbell]',\n",
              "       '[ Bill Weinman]', '[ Anabel Quan-Haase,  and , Luke Sloan]',\n",
              "       '[ Sudharsan Ravichandiran, Sean Saito, et al.]', '[ Khang Pham]',\n",
              "       '[ Pablo Labbe, Clever Anjos, et al.]',\n",
              "       '[ Luca Zavarella,  and , Francesca Lazzeri]',\n",
              "       '[ Lillian Pierson]',\n",
              "       '[ Dzejla Medjedovic, Emin Tahirovic, et al.]',\n",
              "       '[ Karen L. Webber,  and , Henry Y. Zheng]',\n",
              "       '[ Edzer Pebesma,  and , Roger Bivand]', '[ David Ping]',\n",
              "       '[ Ted Malaska,  and , Jonathan Seidman]', '[ Thorsten Gressling]',\n",
              "       '[ Lillian Pierson, Jake Porway - foreword, et al.]',\n",
              "       '[ DSI ACE PREP]', '[ Stefan Papp, Wolfgang Weidinger, et al.]',\n",
              "       '[ Christopher Ilacqua, Henric Cronstrom, et al.]',\n",
              "       '[ Stanley Chan]', '[ Leonard J. Savage]',\n",
              "       '[ Valliappa Lakshmanan,  and , Jordan Tigani]',\n",
              "       '[ Qingquan Song, Haifeng Jin, et al.]',\n",
              "       '[ Data Science by Medved]', '[ Hans-Jurgen Schonig]',\n",
              "       '[ Adam Aspin]', '[ Robert Hoyt,  and , Robert Muenchen]',\n",
              "       '[ Magy Seif El-Nasr, Truong-Huy D. Nguyen, et al.]',\n",
              "       '[ Brian Christian,  and , Brilliance Audio]', '[ Roman Egger]',\n",
              "       '[ Paul Leonardi,  and , Tsedal Neeley]', '[ Andrea Filatro]',\n",
              "       '[ Chris McMullen]', '[ Ali Noorani,  and , Muneeba Sirshar]',\n",
              "       '[ Chris Wiggins,  and , Matthew L. Jones]', '[ Brett Lantz]',\n",
              "       '[ Pang-Ning Tan, Michael Steinbach, et al.]', '[ Hendrik Kleine]',\n",
              "       '[ Ulrika J&auml;gare]',\n",
              "       '[ Raghunathan Rengaswamy,  and , Resmi Suresh]',\n",
              "       '[ Kosuke Imai,  and , Nora Webb Williams]',\n",
              "       '[ Bradley Efron,  and , Trevor Hastie]',\n",
              "       '[ Jacqueline M. Quinless]',\n",
              "       '[ Sebastian Raschka, Yuxi (Hayden) Liu, et al.]',\n",
              "       '[ Kate Strachnyi]', '[ Avrim Blum, John Hopcroft, et al.]',\n",
              "       '[ Michael Fullan, Joanne Quinn, et al.]',\n",
              "       '[ Matthew F. Dixon, Igor Halperin, et al.]',\n",
              "       '[ Yong Liu,  and , Dr. Matei Zaharia]', '[ Laurence Moroney]'],\n",
              "      dtype=object)"
            ]
          },
          "metadata": {},
          "execution_count": 56
        }
      ]
    },
    {
      "cell_type": "code",
      "source": [
        "# Preprocessing function to clean author names\n",
        "def preprocess_authors(author):\n",
        "    if pd.isnull(author):  # Handling NaN values\n",
        "        return np.nan\n",
        "\n",
        "    # Remove unwanted characters and split multiple authors\n",
        "    author = re.sub(r'[\\[\\]]|et al.|\\sand', '', author)\n",
        "    cleaned_author = [name.strip().title() for name in re.split(r'\\s*,+\\s*', author) if name != '']\n",
        "\n",
        "    # Normalize the names (optional)\n",
        "    return cleaned_author  # Convert to title case\n",
        "\n",
        "# Apply the preprocessing function to the author data\n",
        "df['author'] = [preprocess_authors(a) for a in df['author']]"
      ],
      "metadata": {
        "id": "0TyTzoI_SyOE"
      },
      "execution_count": null,
      "outputs": []
    },
    {
      "cell_type": "markdown",
      "source": [
        "3. Biến `dimensions`"
      ],
      "metadata": {
        "id": "qwQ1B_9FBMGg"
      }
    },
    {
      "cell_type": "code",
      "source": [
        "# 3. dimensions\n",
        "df['dimensions'].unique()"
      ],
      "metadata": {
        "colab": {
          "base_uri": "https://localhost:8080/"
        },
        "id": "iVw-HkfDd95m",
        "outputId": "2ab6110d-4509-4c12-a053-d2a87c190a3d"
      },
      "execution_count": null,
      "outputs": [
        {
          "output_type": "execute_result",
          "data": {
            "text/plain": [
              "array(['8.5 x 1.01 x 11 inches', '8 x 0.98 x 9.25 inches',\n",
              "       '8.25 x 0.6 x 10.75 inches', '7 x 1.11 x 9.19 inches',\n",
              "       '7.38 x 0.83 x 9.25 inches', nan, '6.75 x 0.75 x 8.75 inches',\n",
              "       '8.5 x 0.92 x 11 inches', '6.75 x 0.75 x 9.75 inches',\n",
              "       '7.38 x 1.5 x 9.25 inches', '6 x 0.9 x 9 inches',\n",
              "       '6 x 0.24 x 9 inches', '6 x 1.19 x 9 inches',\n",
              "       '7.38 x 1.1 x 9.25 inches', '7.5 x 0.57 x 9.25 inches',\n",
              "       '7.25 x 0.5 x 9 inches', '6 x 0.53 x 9 inches',\n",
              "       '7.5 x 1 x 9.25 inches', '6 x 0.68 x 9 inches',\n",
              "       '7 x 0.75 x 9 inches', '7.5 x 5.5 x 0.5 inches; 3.2 Ounces',\n",
              "       '7 x 1.19 x 9.19 inches', '9.5 x 0.7 x 6.6 inches',\n",
              "       '7 x 2 x 9.25 inches', '8.5 x 0.2 x 11 inches',\n",
              "       '7 x 0.5 x 9.25 inches', '6 x 0.06 x 9 inches',\n",
              "       '7.75 x 0.63 x 9.19 inches', '7.01 x 0.61 x 9.17 inches',\n",
              "       '7 x 0.9 x 9.1 inches', '7 x 0.71 x 9.25 inches',\n",
              "       '7.06 x 1.13 x 9.25 inches', '7.75 x 1.5 x 9.75 inches',\n",
              "       '7 x 1 x 9 inches', '7 x 0.4 x 10 inches',\n",
              "       '7.25 x 1 x 9.25 inches', '7 x 0.6 x 9 inches',\n",
              "       '7.5 x 1.42 x 9.25 inches', '7 x 1.04 x 9.25 inches',\n",
              "       '6 x 0.94 x 9 inches', '6.55 x 1.7 x 9.3 inches',\n",
              "       '7.38 x 0.89 x 9.13 inches', '8 x 1.86 x 10.75 inches',\n",
              "       '5.5 x 0.8 x 8.2 inches', '7 x 0.75 x 9.25 inches',\n",
              "       '6.69 x 0.79 x 9.61 inches', '7 x 0.78 x 10 inches',\n",
              "       '7.5 x 0.63 x 9.25 inches', '7 x 1.45 x 9.1 inches',\n",
              "       '6.75 x 1 x 9.25 inches', '6.14 x 1.56 x 9.21 inches',\n",
              "       '7 x 1.31 x 9.31 inches', '7.4 x 1.43 x 9.13 inches',\n",
              "       '7.2 x 1 x 9 inches', '6.69 x 0.49 x 9.61 inches',\n",
              "       '5 x 0.28 x 8 inches', '6.5 x 1.25 x 9.25 inches',\n",
              "       '7.4 x 1.1 x 9.1 inches', '7.38 x 0.87 x 9.25 inches',\n",
              "       '8.38 x 0.31 x 10.88 inches', '6.2 x 1.1 x 9.1 inches',\n",
              "       '6 x 0.3 x 9 inches', '8.27 x 1.12 x 11.02 inches',\n",
              "       '6.25 x 0.75 x 9.25 inches', '7.8 x 1.1 x 9.4 inches',\n",
              "       '6.69 x 0.69 x 9.61 inches', '6.4 x 1 x 9.3 inches',\n",
              "       '6.1 x 0.98 x 9.25 inches', '6.14 x 0.91 x 9.21 inches',\n",
              "       '7.38 x 1.3 x 9.25 inches', '7 x 0.51 x 9.19 inches',\n",
              "       '7.38 x 0.69 x 9.25 inches', '6 x 1.07 x 9 inches',\n",
              "       '7.31 x 1.21 x 9.31 inches', '6.5 x 1.5 x 9.5 inches',\n",
              "       '8.5 x 0.3 x 11 inches', '6 x 0.56 x 9 inches',\n",
              "       '7 x 0.48 x 9.19 inches', '7.5 x 0.6 x 9.25 inches',\n",
              "       '7.8 x 0.8 x 9.4 inches', '7.38 x 0.64 x 9.13 inches',\n",
              "       '6.69 x 0.85 x 9.53 inches', '7.2 x 1.1 x 10.1 inches',\n",
              "       '6.3 x 1.1 x 8.9 inches', '6.9 x 2 x 9.6 inches',\n",
              "       '7.5 x 0.32 x 9.25 inches', '6.14 x 0.36 x 9.21 inches',\n",
              "       '6 x 0.85 x 9 inches', '7.5 x 0.75 x 10.5 inches',\n",
              "       '7.5 x 0.75 x 9.25 inches', '7 x 0.69 x 9.31 inches',\n",
              "       '8.25 x 1.72 x 9.31 inches', '7.5 x 0.41 x 9.25 inches',\n",
              "       '7.38 x 0.6 x 9.25 inches', '7.5 x 0.87 x 9.25 inches',\n",
              "       '8.5 x 1.27 x 11 inches', '8.5 x 0.34 x 11 inches',\n",
              "       '7.01 x 0.69 x 9.17 inches', '6 x 0.78 x 9 inches',\n",
              "       '7.4 x 0.66 x 9.25 inches', '8.25 x 1 x 10.5 inches',\n",
              "       '7.2 x 0.9 x 9.2 inches', '7 x 1.3 x 10 inches',\n",
              "       '6.14 x 1.06 x 9.21 inches', '7 x 0.75 x 10 inches',\n",
              "       '7 x 1.56 x 10 inches', '7.3 x 0.8 x 9.1 inches',\n",
              "       '1.6 x 6.5 x 8.6 inches', '8 x 1.5 x 10 inches',\n",
              "       '7.01 x 0.87 x 9.17 inches', '8 x 0.25 x 10 inches',\n",
              "       '8.5 x 0.06 x 11 inches', '8.5 x 0.37 x 11 inches',\n",
              "       '7.5 x 1.21 x 9.25 inches', '7.5 x 1.15 x 9.25 inches',\n",
              "       '6.14 x 0.53 x 9.21 inches', '6 x 0.47 x 9 inches',\n",
              "       '7.5 x 1.32 x 9.25 inches', '5.5 x 0.5 x 8 inches',\n",
              "       '7.5 x 0.73 x 9.25 inches', '10 x 1 x 12 inches',\n",
              "       '7.5 x 0.96 x 9.25 inches', '6.1 x 0.79 x 9.25 inches',\n",
              "       '6 x 0.12 x 9 inches', '6.28 x 1.08 x 9.15 inches',\n",
              "       '6 x 0.81 x 9 inches', '6.4 x 0.7 x 9.4 inches',\n",
              "       '7.95 x 1.5 x 10.16 inches', '10.27 x 7.45 x 1.15 inches',\n",
              "       '7.7 x 1.6 x 9.4 inches', '6.9 x 1.3 x 10 inches',\n",
              "       '8 x 0.5 x 10 inches', '6 x 0.48 x 9 inches',\n",
              "       '7 x 1.4 x 9.19 inches', '6.15 x 0.46 x 9.3 inches',\n",
              "       '6 x 1 x 8.75 inches', '7 x 1.87 x 10 inches',\n",
              "       '6.14 x 1.02 x 9.21 inches', '6.7 x 1 x 9.1 inches',\n",
              "       '10 x 8 x 2 inches', '6.3 x 1.8 x 9 inches',\n",
              "       '8.5 x 0.68 x 11 inches', '7.5 x 1.13 x 9.25 inches',\n",
              "       '6 x 0.35 x 9 inches', '6.4 x 1 x 9.7 inches',\n",
              "       '7.38 x 1.73 x 9.13 inches', '6.1 x 0.58 x 9.25 inches',\n",
              "       '7.01 x 1.24 x 9.17 inches', '7.5 x 0.93 x 9.25 inches',\n",
              "       '8.5 x 11 x 0.06 inches', '7.5 x 0.78 x 9.25 inches',\n",
              "       '7.3 x 1.7 x 10.5 inches', '7.5 x 0.95 x 9.25 inches',\n",
              "       '5.91 x 0.79 x 9.06 inches', '6 x 0.61 x 9 inches',\n",
              "       '7 x 0.46 x 10 inches', '8 x 0.75 x 10 inches',\n",
              "       '7 x 1.5 x 10.1 inches', '6.1 x 0.59 x 9.06 inches',\n",
              "       '7.5 x 1.68 x 9.25 inches', '6.5 x 0.9 x 9.4 inches',\n",
              "       '7.5 x 1.08 x 9.25 inches', '7.2 x 0.5 x 8.8 inches',\n",
              "       '7.5 x 1.28 x 9.25 inches', '6.69 x 0.94 x 9.69 inches',\n",
              "       '6.75 x 1.25 x 9.75 inches', '7.25 x 1.5 x 9.25 inches',\n",
              "       '5.9 x 0.7 x 8.9 inches', '9.08 x 8.18 x 2.06 inches',\n",
              "       '7.2 x 1.3 x 9.1 inches', '6.3 x 1.05 x 9.55 inches',\n",
              "       '7.5 x 0.83 x 9.25 inches', '7.5 x 1.38 x 9.25 inches',\n",
              "       '6.1 x 0.96 x 9.25 inches', '8 x 1.39 x 10 inches',\n",
              "       '6.13 x 0.35 x 9.25 inches', '9.5 x 1.5 x 7.25 inches',\n",
              "       '7.5 x 1.03 x 9.25 inches', '5 x 0.32 x 8 inches',\n",
              "       '8 x 0.29 x 10 inches', '6.69 x 0.78 x 9.53 inches',\n",
              "       '7.4 x 1.75 x 9 inches', '7 x 1.09 x 9.19 inches',\n",
              "       '8 x 0.47 x 10 inches', '7.5 x 1.18 x 9.25 inches',\n",
              "       '8.5 x 0.46 x 11 inches', '8 x 0.91 x 10 inches',\n",
              "       '1.1 x 7.5 x 9.2 inches', '6.5 x 0.75 x 9.75 inches',\n",
              "       '7.5 x 1.25 x 9.25 inches', '7 x 0.26 x 10 inches',\n",
              "       '8.1 x 1.2 x 9.9 inches', '7.5 x 1.27 x 9.25 inches',\n",
              "       '6 x 0.32 x 9 inches', '7.3 x 1 x 10.1 inches',\n",
              "       '8 x 0.36 x 10 inches', '7 x 1.14 x 10 inches',\n",
              "       '6.14 x 1.38 x 9.21 inches', '6.69 x 0.75 x 9.61 inches',\n",
              "       '9.54 x 6.46 x 1.41 inches', '7 x 0.5 x 9 inches',\n",
              "       '6 x 0.37 x 9 inches', '6.14 x 1 x 9.21 inches',\n",
              "       '7 x 0.96 x 9.19 inches', '8.5 x 0.27 x 11 inches',\n",
              "       '7 x 1.25 x 10 inches', '6.25 x 1 x 9.25 inches',\n",
              "       '5.5 x 0.38 x 8.5 inches', '8.46 x 0.96 x 10.98 inches',\n",
              "       '10 x 2 x 12 inches', '6.8 x 0.6 x 9.1 inches',\n",
              "       '6 x 0.46 x 9 inches', '6 x 0.34 x 9 inches',\n",
              "       '8.5 x 0.38 x 11 inches', '7.72 x 1.18 x 10.24 inches',\n",
              "       '6.1 x 0.37 x 9.25 inches', '7.73 x 1.24 x 9.04 inches',\n",
              "       '7.4 x 1.2 x 9.2 inches', '6 x 0.6 x 9 inches',\n",
              "       '7.25 x 0.75 x 10.25 inches', '6 x 0.27 x 9 inches',\n",
              "       '7.32 x 1.32 x 9.13 inches', '5.9 x 1.3 x 8.6 inches',\n",
              "       '6 x 0.33 x 9 inches', '6 x 0.39 x 9 inches',\n",
              "       '7 x 0.82 x 9.19 inches', '6.69 x 0.67 x 9.53 inches',\n",
              "       '6.75 x 1 x 9 inches', '6.2 x 0.9 x 9.1 inches',\n",
              "       '7.4 x 0.7 x 9.2 inches', '7.5 x 0.65 x 9.25 inches',\n",
              "       '6 x 0.8 x 9 inches', '8.75 x 1.5 x 11 inches',\n",
              "       '7 x 0.66 x 9.25 inches', '8 x 0.9 x 9.95 inches',\n",
              "       '7 x 0.75 x 9.19 inches', '7.5 x 1.78 x 9.25 inches',\n",
              "       '7.2 x 0.8 x 9 inches', '7 x 0.86 x 10 inches',\n",
              "       '6.1 x 1.1 x 9.3 inches', '6 x 1 x 9 inches',\n",
              "       '7.38 x 0.81 x 9.25 inches', '7 x 0.7 x 9.19 inches',\n",
              "       '7.38 x 1.5 x 9 inches', '6.75 x 1.5 x 9.75 inches',\n",
              "       '7 x 1.21 x 9.13 inches', '7.99 x 10 x 1.85 inches',\n",
              "       '6 x 0.86 x 9 inches', '6 x 1.05 x 9 inches',\n",
              "       '7 x 1 x 9.25 inches', '7.38 x 1.2 x 9.25 inches',\n",
              "       '7 x 0.68 x 10 inches', '7.9 x 0.9 x 9.8 inches',\n",
              "       '7 x 1 x 9.75 inches', '7.3 x 0.6 x 9.2 inches',\n",
              "       '6 x 0.58 x 9 inches', '7.38 x 1 x 9.25 inches',\n",
              "       '7.38 x 0.65 x 9.25 inches', '7 x 1.5 x 9.2 inches',\n",
              "       '6 x 0.69 x 9 inches', '7.4 x 1.9 x 9.1 inches',\n",
              "       '8.5 x 0.24 x 11.02 inches', '7 x 1.21 x 9.19 inches',\n",
              "       '7.38 x 1.81 x 9.25 inches', '7.5 x 0.67 x 9.25 inches',\n",
              "       '7.5 x 1.02 x 9.25 inches', '7.9 x 0.3 x 9.8 inches',\n",
              "       '6 x 0.38 x 9 inches', '7.5 x 1.37 x 9.25 inches',\n",
              "       '7.25 x 0.75 x 9.5 inches', '7.5 x 1.41 x 9.25 inches',\n",
              "       '8 x 1.59 x 10 inches', '7.5 x 0.81 x 9.25 inches',\n",
              "       '7.5 x 0.54 x 9.25 inches', '7.5 x 0.82 x 9.25 inches',\n",
              "       '8.5 x 0.59 x 11 inches', '8 x 1.55 x 10 inches',\n",
              "       '7.5 x 1.06 x 9.25 inches', '7 x 1.17 x 9 inches',\n",
              "       '5 x 0.33 x 8 inches', '7.5 x 1.74 x 9.25 inches',\n",
              "       '7.4 x 2.3 x 9.1 inches', '7 x 1.5 x 9 inches',\n",
              "       '8 x 0.9 x 9.9 inches', '9.17 x 1.42 x 7.6 inches',\n",
              "       '7.5 x 0.9 x 9.25 inches', '6.9 x 0.8 x 9 inches',\n",
              "       '7.4 x 1.6 x 9.1 inches', '7 x 0.94 x 9.25 inches',\n",
              "       '8.5 x 0.28 x 11 inches', '6.93 x 1.34 x 9.06 inches',\n",
              "       '7 x 0.53 x 9.25 inches', '7 x 0.99 x 9.25 inches',\n",
              "       '8.5 x 0.85 x 11 inches', '7.01 x 2.06 x 9.99 inches',\n",
              "       '6.89 x 0.57 x 9.06 inches', '7 x 0.88 x 9.25 inches',\n",
              "       '7 x 1.25 x 9.19 inches', '6.69 x 2.44 x 2.4 inches; 7.37 Ounces',\n",
              "       '9.3 x 8.2 x 3 inches; 1.8 Pounds', '7.5 x 1.34 x 9.25 inches',\n",
              "       '8.19 x 5.67 x 4.02 inches; 1.5 Pounds',\n",
              "       '2.55 x 0.99 x 0.2 inches; 1.13 Ounces', '6 x 1.13 x 9 inches',\n",
              "       '7.5 x 1.25 x 9.5 inches', '7.06 x 0.96 x 9.25 inches',\n",
              "       '7 x 0.37 x 10 inches', '7.3 x 0.9 x 9.2 inches',\n",
              "       '7.52 x 5.47 x 1.1 inches; 8.47 Ounces',\n",
              "       '7.06 x 0.53 x 9.25 inches', '7.38 x 0.55 x 9.25 inches',\n",
              "       '7 x 1.41 x 9.19 inches', '7 x 0.73 x 9.13 inches',\n",
              "       '8.5 x 0.81 x 11 inches', '7.5 x 1.5 x 10.5 inches',\n",
              "       '7.01 x 1.02 x 9.17 inches', '8.5 x 0.25 x 11 inches',\n",
              "       '7.5 x 0.91 x 9.25 inches', '6 x 0.4 x 9 inches',\n",
              "       '7.5 x 1.73 x 9.25 inches', '7.38 x 1.63 x 9.25 inches',\n",
              "       '6.9 x 1.4 x 9.1 inches', '8.25 x 1.25 x 10.25 inches',\n",
              "       '7.06 x 0.57 x 9.25 inches', '5.98 x 0.15 x 9.02 inches',\n",
              "       '7.4 x 1.15 x 8.95 inches', '8 x 1 x 9.75 inches',\n",
              "       '6 x 0.64 x 9 inches', '7 x 0.76 x 9.25 inches',\n",
              "       '7.1 x 2.15 x 9.1 inches', '7 x 1.6 x 9.1 inches',\n",
              "       '5.5 x 2 x 7.5 inches', '6.14 x 0.5 x 9.21 inches',\n",
              "       '8.5 x 0.78 x 11 inches', '7.06 x 0.78 x 9.31 inches',\n",
              "       '7 x 0.64 x 10 inches', '0.7 x 5.4 x 7.5 inches; 2.72 Ounces',\n",
              "       '7 x 0.53 x 9.19 inches', '7.5 x 1.17 x 9.25 inches',\n",
              "       '7.5 x 1.86 x 9.25 inches', '6.9 x 0.77 x 9.1 inches',\n",
              "       '7 x 0.5 x 10 inches', '7.3 x 1 x 9.2 inches',\n",
              "       '5.11 x 1.31 x 7.81 inches', '8.5 x 0.35 x 11 inches',\n",
              "       '7 x 1.2 x 9.2 inches', '8.4 x 0.75 x 9.55 inches',\n",
              "       '5.5 x 0.4 x 8.5 inches', '5.83 x 0.6 x 8.27 inches',\n",
              "       '6.94 x 0.51 x 9.25 inches', '7 x 0.55 x 9.25 inches',\n",
              "       '7.5 x 0.9 x 9.2 inches', '7.5 x 0.84 x 9.25 inches',\n",
              "       '7.57 x 0.53 x 9.61 inches', '7.01 x 0.76 x 9.17 inches',\n",
              "       '7.01 x 1.26 x 9.17 inches', '6.1 x 0.62 x 9.25 inches',\n",
              "       '7.99 x 1.82 x 9.38 inches', '7.3 x 0.5 x 9.2 inches',\n",
              "       '6 x 0.62 x 9 inches', '7.38 x 0.94 x 9.25 inches',\n",
              "       '5 x 0.15 x 8 inches', '7.44 x 0.55 x 9.69 inches',\n",
              "       '7 x 1.25 x 9.1 inches', '5.91 x 0.39 x 8.82 inches',\n",
              "       '8.07 x 0.59 x 9.61 inches', '7.38 x 0.9 x 9.25 inches',\n",
              "       '7.5 x 0.99 x 9.25 inches', '7.5 x 1.87 x 9.25 inches',\n",
              "       '6 x 1.08 x 8 inches', '7.06 x 0.96 x 9.31 inches',\n",
              "       '7.06 x 0.65 x 9.25 inches', '7.5 x 1.07 x 9.25 inches',\n",
              "       '7.5 x 1.12 x 9.25 inches', '7.5 x 1.19 x 9.25 inches',\n",
              "       '6.75 x 5 x 0.25 inches; 1.6 Ounces', '7.5 x 0.86 x 9.25 inches',\n",
              "       '6 x 0.31 x 9 inches', '7 x 1.45 x 10 inches',\n",
              "       '5.25 x 0.5 x 7.5 inches', '6.69 x 1.29 x 9.61 inches',\n",
              "       '7 x 1.2 x 9.19 inches', '7 x 1.19 x 9.25 inches',\n",
              "       '7.5 x 0.37 x 9.25 inches', '8 x 0.75 x 9.75 inches',\n",
              "       '7 x 0.65 x 9.19 inches', '8 x 1.5 x 9.9 inches',\n",
              "       '7.5 x 0.7 x 9.25 inches', '7.5 x 0.64 x 9.25 inches',\n",
              "       '7.38 x 0.3 x 9.25 inches', '0.04 x 0.04 x 0.04 inches',\n",
              "       '7.5 x 0.46 x 9.25 inches', '9.9 x 7.9 x 0.9 inches',\n",
              "       '7.38 x 0.5 x 9.25 inches', '7 x 1 x 10 inches',\n",
              "       '8 x 0.39 x 10 inches', '7.5 x 1.61 x 9.25 inches',\n",
              "       '5 x 0.53 x 8 inches', '7 x 1.31 x 9.25 inches',\n",
              "       '7.05 x 1.4 x 9.1 inches', '7 x 0.35 x 9.19 inches',\n",
              "       '7 x 1.32 x 9.06 inches', '7.44 x 0.38 x 9.69 inches',\n",
              "       '7.5 x 5.38 x 0.6 inches; 4 Ounces', '6.75 x 1 x 8.75 inches',\n",
              "       '7.1 x 0.6 x 9.2 inches', '7 x 0.93 x 9.25 inches',\n",
              "       '7.06 x 0.94 x 9.25 inches', '6 x 0.55 x 9 inches',\n",
              "       '7.5 x 1.3 x 9.25 inches', '6 x 0.23 x 9 inches',\n",
              "       '6.75 x 5.3 x 0.35 inches; 2.4 Ounces', '6 x 0.9 x 9.25 inches',\n",
              "       '7.5 x 0.7 x 9.2 inches', '6 x 0.89 x 9 inches',\n",
              "       '7.3 x 1.4 x 9.1 inches', '6.9 x 0.6 x 9 inches',\n",
              "       '7 x 0.78 x 9.05 inches', '8.2 x 0.3 x 10.1 inches',\n",
              "       '7.1 x 0.62 x 9 inches', '7.5 x 0.58 x 9.25 inches',\n",
              "       '6.14 x 0.88 x 9.21 inches', '8.3 x 0.45 x 10.3 inches',\n",
              "       '7.5 x 0.75 x 9 inches', '7.44 x 1.36 x 9.69 inches',\n",
              "       '6 x 0.25 x 9 inches', '7.5 x 0.79 x 9.25 inches',\n",
              "       '8.5 x 0.96 x 11 inches', '7.5 x 1.5 x 9.25 inches',\n",
              "       '7.38 x 1.06 x 9.25 inches', '4.25 x 0.5 x 7 inches',\n",
              "       '6.89 x 1.68 x 9.37 inches', '7.5 x 0.43 x 9.25 inches',\n",
              "       '6.3 x 1.3 x 9.2 inches', '8.5 x 0.82 x 11 inches',\n",
              "       '7 x 0.7 x 9 inches', '6.9 x 0.7 x 9.1 inches',\n",
              "       '5 x 1.27 x 8 inches', '6.75 x 0.5 x 9 inches',\n",
              "       '5.98 x 0.2 x 9.02 inches', '7.38 x 1.4 x 9.25 inches',\n",
              "       '7 x 2.8 x 9.19 inches', '7.06 x 0.99 x 9.25 inches',\n",
              "       '7.5 x 1.23 x 9.25 inches', '6 x 0.41 x 9 inches',\n",
              "       '9 x 8 x 11.25 inches', '7.5 x 1.4 x 9.25 inches',\n",
              "       '7 x 1.25 x 9.25 inches', '1.4 x 6.9 x 8.9 inches',\n",
              "       '7 x 0.7 x 9.2 inches', '7.38 x 0.7 x 9.25 inches',\n",
              "       '7.38 x 0.51 x 9.25 inches', '7.1 x 0.9 x 9.1 inches',\n",
              "       '6 x 1.15 x 9 inches', '5.5 x 1.25 x 8.5 inches',\n",
              "       '6.4 x 1.4 x 9.35 inches', '6.14 x 0.75 x 9.21 inches',\n",
              "       '7.38 x 0.8 x 9.25 inches', '6 x 0.84 x 9 inches',\n",
              "       '8.9 x 1.2 x 11 inches', '6.1 x 1.2 x 9.1 inches',\n",
              "       '5.5 x 1.5 x 7.31 inches', '7.2 x 1.1 x 9.4 inches',\n",
              "       '5 x 0.64 x 7 inches', '8.55 x 0.45 x 11 inches',\n",
              "       '7 x 0.92 x 10 inches', '5.98 x 0.43 x 9.02 inches',\n",
              "       '7 x 0.4 x 9.1 inches', '5.5 x 0.7 x 8.38 inches',\n",
              "       '7.1 x 1.2 x 9.9 inches', '9.8 x 7.8 x 0.7 inches',\n",
              "       '7.01 x 1.29 x 10 inches', '6 x 1.9 x 9 inches',\n",
              "       '7.3 x 1 x 9.4 inches', '6.6 x 0.25 x 10.2 inches',\n",
              "       '8.5 x 0.08 x 8.5 inches', '7 x 0.2 x 9 inches',\n",
              "       '6.14 x 0.94 x 9.21 inches', '7.01 x 0.77 x 10 inches',\n",
              "       '7 x 0.93 x 10 inches', '7.3 x 0.7 x 9.1 inches',\n",
              "       '7 x 0.69 x 10 inches', '6.5 x 1.25 x 9.75 inches',\n",
              "       '5.5 x 0.15 x 8.5 inches', '5.65 x 1.45 x 8.35 inches',\n",
              "       '9.1 x 0.8 x 6.1 inches', '7.3 x 1 x 10.2 inches',\n",
              "       '6 x 0.71 x 9 inches', '7.5 x 1.01 x 9.25 inches',\n",
              "       '5.5 x 0.32 x 7.31 inches', '7.5 x 1.04 x 9.25 inches',\n",
              "       '7.5 x 0.38 x 9.25 inches', '7.7 x 1.3 x 10.2 inches',\n",
              "       '7.4 x 1 x 9.7 inches', '5 x 0.75 x 9 inches',\n",
              "       '9.06 x 0.94 x 6.85 inches', '7 x 0.84 x 9.19 inches',\n",
              "       '7.01 x 0.74 x 10 inches', '5.41 x 0.86 x 8.24 inches',\n",
              "       '8.5 x 1.19 x 11 inches', '7.5 x 1.05 x 9.25 inches',\n",
              "       '7.01 x 1.04 x 10 inches', '6.14 x 1.44 x 9.21 inches',\n",
              "       '7.44 x 0.76 x 9.69 inches', '7 x 0.99 x 10 inches',\n",
              "       '6 x 0.65 x 9 inches', '7.38 x 0.4 x 9.25 inches',\n",
              "       '5.18 x 0.7 x 8 inches', '7.5 x 0.55 x 9.25 inches',\n",
              "       '6 x 0.22 x 9 inches', '7.5 x 1.09 x 9.25 inches',\n",
              "       '7.5 x 1.69 x 9.25 inches', '6.69 x 1.63 x 9.61 inches',\n",
              "       '6.14 x 0.55 x 9.21 inches', '1.55 x 8.45 x 10.35 inches',\n",
              "       '7.5 x 1.26 x 9.25 inches', '7.4 x 0.78 x 9.3 inches',\n",
              "       '7 x 1.59 x 10 inches', '6.7 x 1.3 x 9.4 inches',\n",
              "       '6.81 x 1.38 x 9.53 inches', '7.5 x 0.52 x 9.25 inches',\n",
              "       '7 x 1.7 x 10 inches', '5.43 x 0.73 x 8.49 inches',\n",
              "       '7.01 x 1 x 9.17 inches', '6 x 0.28 x 9 inches',\n",
              "       '6 x 0.36 x 9 inches', '8.5 x 0.59 x 10.98 inches',\n",
              "       '6.3 x 0.8 x 9.3 inches', '7.38 x 1.01 x 9.25 inches',\n",
              "       '6.5 x 1 x 9.5 inches', '6 x 0.44 x 9 inches',\n",
              "       '8 x 0.35 x 10 inches', '8.5 x 0.62 x 11 inches',\n",
              "       '6.1 x 0.86 x 9.25 inches', '9.25 x 1.5 x 10.75 inches',\n",
              "       '6.75 x 1 x 9.75 inches', '6 x 0.5 x 8.9 inches',\n",
              "       '7.5 x 1.75 x 9.25 inches', '5 x 0.57 x 6.9 inches',\n",
              "       '7 x 0.47 x 10 inches', '6.14 x 1.25 x 9.21 inches'], dtype=object)"
            ]
          },
          "metadata": {},
          "execution_count": 58
        }
      ]
    },
    {
      "cell_type": "code",
      "source": [
        "# Extract weight from the dimensions column and impute to the weight column\n",
        "to_replace = df[df['dimensions'].str.contains(r'Pounds|Ounces', na=False)][['dimensions', 'weight']]\n",
        "extract_weight = [preprocess_weight(wei) for wei in to_replace['dimensions'].str.extract(r';\\s(.*)$')[0]]\n",
        "df.loc[to_replace.index, 'weight'] = extract_weight"
      ],
      "metadata": {
        "id": "MUOKwGGjd92-"
      },
      "execution_count": null,
      "outputs": []
    },
    {
      "cell_type": "code",
      "source": [
        "# Delete weights from dimensions column\n",
        "df.loc[:, 'dimensions'] = df['dimensions'].str.replace(r';.+$', '', regex=True)"
      ],
      "metadata": {
        "id": "X-e1q-1K3rVk"
      },
      "execution_count": null,
      "outputs": []
    },
    {
      "cell_type": "markdown",
      "source": [
        "4. Biến `language`"
      ],
      "metadata": {
        "id": "Yr5g5j2ABT1g"
      }
    },
    {
      "cell_type": "code",
      "source": [
        "language_repl = df[~df['language'].str.contains(r'English|Spanish|Japanese|French', na=True)]['language']\n",
        "df.loc[language_repl.index, 'language'] = np.nan"
      ],
      "metadata": {
        "id": "4vpIsmGE4dup"
      },
      "execution_count": null,
      "outputs": []
    },
    {
      "cell_type": "code",
      "source": [
        "df[df['language'].str.contains(r'[()]', na=False)]"
      ],
      "metadata": {
        "colab": {
          "base_uri": "https://localhost:8080/",
          "height": 476
        },
        "id": "joamTCIzg5kG",
        "outputId": "d960c54d-a205-4e12-abfe-ca271006f7ed"
      },
      "execution_count": null,
      "outputs": [
        {
          "output_type": "execute_result",
          "data": {
            "text/plain": [
              "                                                 title author  price  \\\n",
              "22   Monty Python and the Holy Grail (Special Edition)    NaN   9.99   \n",
              "569                 Monty Python's Life Of Brian [DVD]    NaN  18.85   \n",
              "582       Monty Python's The Meaning of Life [Blu-ray]    NaN   9.99   \n",
              "\n",
              "    price (including used books)  pages  avg_reviews  n_reviews  star5  star4  \\\n",
              "22                          9.99   <NA>          4.7      10103   0.85   0.08   \n",
              "569                        18.85   <NA>          4.8       3678   0.86   0.09   \n",
              "582                         9.99   <NA>          4.7       3337   0.82   0.10   \n",
              "\n",
              "     star3  star2  star1                dimensions  weight  \\\n",
              "22    0.03   0.01   0.02    7.5 x 5.5 x 0.5 inches     3.2   \n",
              "569   0.04   0.01    NaN   7.5 x 5.38 x 0.6 inches     4.0   \n",
              "582   0.04   0.02   0.02  6.75 x 5.3 x 0.35 inches     2.4   \n",
              "\n",
              "                                              language publisher ISBN_13  \\\n",
              "22   Unqualified, Japanese (Dolby Digital 2.0 Mono)...       NaN     NaN   \n",
              "569                   English (Dolby Digital 2.0 Mono)       NaN     NaN   \n",
              "582  English (DTS-HD Master Audio 5.1), French (DTS...       NaN     NaN   \n",
              "\n",
              "                                                  link  \\\n",
              "22   /Monty-Python-Holy-Grail-Special/dp/B00005O3VC...   \n",
              "569  /Monty-Pythons-Brian-Graham-Chapman/dp/6305388...   \n",
              "582  /Monty-Pythons-Meaning-Life-Blu-ray/dp/B07G24K...   \n",
              "\n",
              "                                         complete_link  \n",
              "22   https://www.amazon.com/Monty-Python-Holy-Grail...  \n",
              "569  https://www.amazon.com/Monty-Pythons-Brian-Gra...  \n",
              "582  https://www.amazon.com/Monty-Pythons-Meaning-L...  "
            ],
            "text/html": [
              "\n",
              "  <div id=\"df-457f827b-5777-42e5-8f46-4e41577272cb\" class=\"colab-df-container\">\n",
              "    <div>\n",
              "<style scoped>\n",
              "    .dataframe tbody tr th:only-of-type {\n",
              "        vertical-align: middle;\n",
              "    }\n",
              "\n",
              "    .dataframe tbody tr th {\n",
              "        vertical-align: top;\n",
              "    }\n",
              "\n",
              "    .dataframe thead th {\n",
              "        text-align: right;\n",
              "    }\n",
              "</style>\n",
              "<table border=\"1\" class=\"dataframe\">\n",
              "  <thead>\n",
              "    <tr style=\"text-align: right;\">\n",
              "      <th></th>\n",
              "      <th>title</th>\n",
              "      <th>author</th>\n",
              "      <th>price</th>\n",
              "      <th>price (including used books)</th>\n",
              "      <th>pages</th>\n",
              "      <th>avg_reviews</th>\n",
              "      <th>n_reviews</th>\n",
              "      <th>star5</th>\n",
              "      <th>star4</th>\n",
              "      <th>star3</th>\n",
              "      <th>star2</th>\n",
              "      <th>star1</th>\n",
              "      <th>dimensions</th>\n",
              "      <th>weight</th>\n",
              "      <th>language</th>\n",
              "      <th>publisher</th>\n",
              "      <th>ISBN_13</th>\n",
              "      <th>link</th>\n",
              "      <th>complete_link</th>\n",
              "    </tr>\n",
              "  </thead>\n",
              "  <tbody>\n",
              "    <tr>\n",
              "      <th>22</th>\n",
              "      <td>Monty Python and the Holy Grail (Special Edition)</td>\n",
              "      <td>NaN</td>\n",
              "      <td>9.99</td>\n",
              "      <td>9.99</td>\n",
              "      <td>&lt;NA&gt;</td>\n",
              "      <td>4.7</td>\n",
              "      <td>10103</td>\n",
              "      <td>0.85</td>\n",
              "      <td>0.08</td>\n",
              "      <td>0.03</td>\n",
              "      <td>0.01</td>\n",
              "      <td>0.02</td>\n",
              "      <td>7.5 x 5.5 x 0.5 inches</td>\n",
              "      <td>3.2</td>\n",
              "      <td>Unqualified, Japanese (Dolby Digital 2.0 Mono)...</td>\n",
              "      <td>NaN</td>\n",
              "      <td>NaN</td>\n",
              "      <td>/Monty-Python-Holy-Grail-Special/dp/B00005O3VC...</td>\n",
              "      <td>https://www.amazon.com/Monty-Python-Holy-Grail...</td>\n",
              "    </tr>\n",
              "    <tr>\n",
              "      <th>569</th>\n",
              "      <td>Monty Python's Life Of Brian [DVD]</td>\n",
              "      <td>NaN</td>\n",
              "      <td>18.85</td>\n",
              "      <td>18.85</td>\n",
              "      <td>&lt;NA&gt;</td>\n",
              "      <td>4.8</td>\n",
              "      <td>3678</td>\n",
              "      <td>0.86</td>\n",
              "      <td>0.09</td>\n",
              "      <td>0.04</td>\n",
              "      <td>0.01</td>\n",
              "      <td>NaN</td>\n",
              "      <td>7.5 x 5.38 x 0.6 inches</td>\n",
              "      <td>4.0</td>\n",
              "      <td>English (Dolby Digital 2.0 Mono)</td>\n",
              "      <td>NaN</td>\n",
              "      <td>NaN</td>\n",
              "      <td>/Monty-Pythons-Brian-Graham-Chapman/dp/6305388...</td>\n",
              "      <td>https://www.amazon.com/Monty-Pythons-Brian-Gra...</td>\n",
              "    </tr>\n",
              "    <tr>\n",
              "      <th>582</th>\n",
              "      <td>Monty Python's The Meaning of Life [Blu-ray]</td>\n",
              "      <td>NaN</td>\n",
              "      <td>9.99</td>\n",
              "      <td>9.99</td>\n",
              "      <td>&lt;NA&gt;</td>\n",
              "      <td>4.7</td>\n",
              "      <td>3337</td>\n",
              "      <td>0.82</td>\n",
              "      <td>0.10</td>\n",
              "      <td>0.04</td>\n",
              "      <td>0.02</td>\n",
              "      <td>0.02</td>\n",
              "      <td>6.75 x 5.3 x 0.35 inches</td>\n",
              "      <td>2.4</td>\n",
              "      <td>English (DTS-HD Master Audio 5.1), French (DTS...</td>\n",
              "      <td>NaN</td>\n",
              "      <td>NaN</td>\n",
              "      <td>/Monty-Pythons-Meaning-Life-Blu-ray/dp/B07G24K...</td>\n",
              "      <td>https://www.amazon.com/Monty-Pythons-Meaning-L...</td>\n",
              "    </tr>\n",
              "  </tbody>\n",
              "</table>\n",
              "</div>\n",
              "    <div class=\"colab-df-buttons\">\n",
              "\n",
              "  <div class=\"colab-df-container\">\n",
              "    <button class=\"colab-df-convert\" onclick=\"convertToInteractive('df-457f827b-5777-42e5-8f46-4e41577272cb')\"\n",
              "            title=\"Convert this dataframe to an interactive table.\"\n",
              "            style=\"display:none;\">\n",
              "\n",
              "  <svg xmlns=\"http://www.w3.org/2000/svg\" height=\"24px\" viewBox=\"0 -960 960 960\">\n",
              "    <path d=\"M120-120v-720h720v720H120Zm60-500h600v-160H180v160Zm220 220h160v-160H400v160Zm0 220h160v-160H400v160ZM180-400h160v-160H180v160Zm440 0h160v-160H620v160ZM180-180h160v-160H180v160Zm440 0h160v-160H620v160Z\"/>\n",
              "  </svg>\n",
              "    </button>\n",
              "\n",
              "  <style>\n",
              "    .colab-df-container {\n",
              "      display:flex;\n",
              "      gap: 12px;\n",
              "    }\n",
              "\n",
              "    .colab-df-convert {\n",
              "      background-color: #E8F0FE;\n",
              "      border: none;\n",
              "      border-radius: 50%;\n",
              "      cursor: pointer;\n",
              "      display: none;\n",
              "      fill: #1967D2;\n",
              "      height: 32px;\n",
              "      padding: 0 0 0 0;\n",
              "      width: 32px;\n",
              "    }\n",
              "\n",
              "    .colab-df-convert:hover {\n",
              "      background-color: #E2EBFA;\n",
              "      box-shadow: 0px 1px 2px rgba(60, 64, 67, 0.3), 0px 1px 3px 1px rgba(60, 64, 67, 0.15);\n",
              "      fill: #174EA6;\n",
              "    }\n",
              "\n",
              "    .colab-df-buttons div {\n",
              "      margin-bottom: 4px;\n",
              "    }\n",
              "\n",
              "    [theme=dark] .colab-df-convert {\n",
              "      background-color: #3B4455;\n",
              "      fill: #D2E3FC;\n",
              "    }\n",
              "\n",
              "    [theme=dark] .colab-df-convert:hover {\n",
              "      background-color: #434B5C;\n",
              "      box-shadow: 0px 1px 3px 1px rgba(0, 0, 0, 0.15);\n",
              "      filter: drop-shadow(0px 1px 2px rgba(0, 0, 0, 0.3));\n",
              "      fill: #FFFFFF;\n",
              "    }\n",
              "  </style>\n",
              "\n",
              "    <script>\n",
              "      const buttonEl =\n",
              "        document.querySelector('#df-457f827b-5777-42e5-8f46-4e41577272cb button.colab-df-convert');\n",
              "      buttonEl.style.display =\n",
              "        google.colab.kernel.accessAllowed ? 'block' : 'none';\n",
              "\n",
              "      async function convertToInteractive(key) {\n",
              "        const element = document.querySelector('#df-457f827b-5777-42e5-8f46-4e41577272cb');\n",
              "        const dataTable =\n",
              "          await google.colab.kernel.invokeFunction('convertToInteractive',\n",
              "                                                    [key], {});\n",
              "        if (!dataTable) return;\n",
              "\n",
              "        const docLinkHtml = 'Like what you see? Visit the ' +\n",
              "          '<a target=\"_blank\" href=https://colab.research.google.com/notebooks/data_table.ipynb>data table notebook</a>'\n",
              "          + ' to learn more about interactive tables.';\n",
              "        element.innerHTML = '';\n",
              "        dataTable['output_type'] = 'display_data';\n",
              "        await google.colab.output.renderOutput(dataTable, element);\n",
              "        const docLink = document.createElement('div');\n",
              "        docLink.innerHTML = docLinkHtml;\n",
              "        element.appendChild(docLink);\n",
              "      }\n",
              "    </script>\n",
              "  </div>\n",
              "\n",
              "\n",
              "<div id=\"df-2a1fce34-2839-4086-9fbc-c615f2c7481d\">\n",
              "  <button class=\"colab-df-quickchart\" onclick=\"quickchart('df-2a1fce34-2839-4086-9fbc-c615f2c7481d')\"\n",
              "            title=\"Suggest charts\"\n",
              "            style=\"display:none;\">\n",
              "\n",
              "<svg xmlns=\"http://www.w3.org/2000/svg\" height=\"24px\"viewBox=\"0 0 24 24\"\n",
              "     width=\"24px\">\n",
              "    <g>\n",
              "        <path d=\"M19 3H5c-1.1 0-2 .9-2 2v14c0 1.1.9 2 2 2h14c1.1 0 2-.9 2-2V5c0-1.1-.9-2-2-2zM9 17H7v-7h2v7zm4 0h-2V7h2v10zm4 0h-2v-4h2v4z\"/>\n",
              "    </g>\n",
              "</svg>\n",
              "  </button>\n",
              "\n",
              "<style>\n",
              "  .colab-df-quickchart {\n",
              "      --bg-color: #E8F0FE;\n",
              "      --fill-color: #1967D2;\n",
              "      --hover-bg-color: #E2EBFA;\n",
              "      --hover-fill-color: #174EA6;\n",
              "      --disabled-fill-color: #AAA;\n",
              "      --disabled-bg-color: #DDD;\n",
              "  }\n",
              "\n",
              "  [theme=dark] .colab-df-quickchart {\n",
              "      --bg-color: #3B4455;\n",
              "      --fill-color: #D2E3FC;\n",
              "      --hover-bg-color: #434B5C;\n",
              "      --hover-fill-color: #FFFFFF;\n",
              "      --disabled-bg-color: #3B4455;\n",
              "      --disabled-fill-color: #666;\n",
              "  }\n",
              "\n",
              "  .colab-df-quickchart {\n",
              "    background-color: var(--bg-color);\n",
              "    border: none;\n",
              "    border-radius: 50%;\n",
              "    cursor: pointer;\n",
              "    display: none;\n",
              "    fill: var(--fill-color);\n",
              "    height: 32px;\n",
              "    padding: 0;\n",
              "    width: 32px;\n",
              "  }\n",
              "\n",
              "  .colab-df-quickchart:hover {\n",
              "    background-color: var(--hover-bg-color);\n",
              "    box-shadow: 0 1px 2px rgba(60, 64, 67, 0.3), 0 1px 3px 1px rgba(60, 64, 67, 0.15);\n",
              "    fill: var(--button-hover-fill-color);\n",
              "  }\n",
              "\n",
              "  .colab-df-quickchart-complete:disabled,\n",
              "  .colab-df-quickchart-complete:disabled:hover {\n",
              "    background-color: var(--disabled-bg-color);\n",
              "    fill: var(--disabled-fill-color);\n",
              "    box-shadow: none;\n",
              "  }\n",
              "\n",
              "  .colab-df-spinner {\n",
              "    border: 2px solid var(--fill-color);\n",
              "    border-color: transparent;\n",
              "    border-bottom-color: var(--fill-color);\n",
              "    animation:\n",
              "      spin 1s steps(1) infinite;\n",
              "  }\n",
              "\n",
              "  @keyframes spin {\n",
              "    0% {\n",
              "      border-color: transparent;\n",
              "      border-bottom-color: var(--fill-color);\n",
              "      border-left-color: var(--fill-color);\n",
              "    }\n",
              "    20% {\n",
              "      border-color: transparent;\n",
              "      border-left-color: var(--fill-color);\n",
              "      border-top-color: var(--fill-color);\n",
              "    }\n",
              "    30% {\n",
              "      border-color: transparent;\n",
              "      border-left-color: var(--fill-color);\n",
              "      border-top-color: var(--fill-color);\n",
              "      border-right-color: var(--fill-color);\n",
              "    }\n",
              "    40% {\n",
              "      border-color: transparent;\n",
              "      border-right-color: var(--fill-color);\n",
              "      border-top-color: var(--fill-color);\n",
              "    }\n",
              "    60% {\n",
              "      border-color: transparent;\n",
              "      border-right-color: var(--fill-color);\n",
              "    }\n",
              "    80% {\n",
              "      border-color: transparent;\n",
              "      border-right-color: var(--fill-color);\n",
              "      border-bottom-color: var(--fill-color);\n",
              "    }\n",
              "    90% {\n",
              "      border-color: transparent;\n",
              "      border-bottom-color: var(--fill-color);\n",
              "    }\n",
              "  }\n",
              "</style>\n",
              "\n",
              "  <script>\n",
              "    async function quickchart(key) {\n",
              "      const quickchartButtonEl =\n",
              "        document.querySelector('#' + key + ' button');\n",
              "      quickchartButtonEl.disabled = true;  // To prevent multiple clicks.\n",
              "      quickchartButtonEl.classList.add('colab-df-spinner');\n",
              "      try {\n",
              "        const charts = await google.colab.kernel.invokeFunction(\n",
              "            'suggestCharts', [key], {});\n",
              "      } catch (error) {\n",
              "        console.error('Error during call to suggestCharts:', error);\n",
              "      }\n",
              "      quickchartButtonEl.classList.remove('colab-df-spinner');\n",
              "      quickchartButtonEl.classList.add('colab-df-quickchart-complete');\n",
              "    }\n",
              "    (() => {\n",
              "      let quickchartButtonEl =\n",
              "        document.querySelector('#df-2a1fce34-2839-4086-9fbc-c615f2c7481d button');\n",
              "      quickchartButtonEl.style.display =\n",
              "        google.colab.kernel.accessAllowed ? 'block' : 'none';\n",
              "    })();\n",
              "  </script>\n",
              "</div>\n",
              "    </div>\n",
              "  </div>\n"
            ]
          },
          "metadata": {},
          "execution_count": 62
        }
      ]
    },
    {
      "cell_type": "markdown",
      "source": [
        "5. Biến `publisher`"
      ],
      "metadata": {
        "id": "qcrz3KtBBYSn"
      }
    },
    {
      "cell_type": "code",
      "source": [
        "publisher_repl = df[~df['publisher'].str.contains(r'[()]', na=True)]['publisher']\n",
        "df.loc[publisher_repl.index, 'publisher'] = 'Unknown'"
      ],
      "metadata": {
        "id": "RnP5T91foyZb"
      },
      "execution_count": null,
      "outputs": []
    },
    {
      "cell_type": "markdown",
      "source": [
        "6. Biến `ISBN_13`"
      ],
      "metadata": {
        "id": "Z5gB_M6aBcOK"
      }
    },
    {
      "cell_type": "code",
      "source": [
        "# Validating ISBN-13 format\n",
        "invalid_isbn = df[~df['ISBN_13'].str.contains(r'^\\d{3}-\\d{10}$', na=False)]['ISBN_13']\n",
        "df.loc[invalid_isbn.index, 'ISBN_13'] = np.nan"
      ],
      "metadata": {
        "id": "fXTdRHUfqgjy"
      },
      "execution_count": null,
      "outputs": []
    },
    {
      "cell_type": "markdown",
      "source": [
        "### 2.2. Xử lý dữ liệu bị thiếu (Missing values)"
      ],
      "metadata": {
        "id": "jPYLYtgExfuI"
      }
    },
    {
      "cell_type": "code",
      "source": [
        "# Dropping rows with excessive missing data\n",
        "threshold = 0.4  # Set the threshold for missing values per row\n",
        "df.dropna(thresh=df.shape[1] * threshold, inplace=True, axis=0)"
      ],
      "metadata": {
        "id": "MNHqjI9x0qdk"
      },
      "execution_count": null,
      "outputs": []
    },
    {
      "cell_type": "code",
      "source": [
        "# Identify columns with missing values\n",
        "columns_with_missing = df.columns[df.isnull().any()]\n",
        "missing_counts = df[columns_with_missing].isnull().sum()\n",
        "\n",
        "# Display columns with missing values and their counts\n",
        "print(\"Columns with missing values:\")\n",
        "print(missing_counts)"
      ],
      "metadata": {
        "colab": {
          "base_uri": "https://localhost:8080/"
        },
        "id": "wit5r7jgwIq-",
        "outputId": "c9ef0dfe-9107-4f99-db0b-c2100e736659"
      },
      "execution_count": null,
      "outputs": [
        {
          "output_type": "stream",
          "name": "stdout",
          "text": [
            "Columns with missing values:\n",
            "author                          149\n",
            "price                            64\n",
            "price (including used books)     64\n",
            "pages                            56\n",
            "avg_reviews                      85\n",
            "n_reviews                        85\n",
            "star5                            85\n",
            "star4                           151\n",
            "star3                           231\n",
            "star2                           334\n",
            "star1                           457\n",
            "dimensions                      141\n",
            "weight                          125\n",
            "language                         42\n",
            "publisher                        72\n",
            "ISBN_13                         325\n",
            "dtype: int64\n"
          ]
        }
      ]
    },
    {
      "cell_type": "markdown",
      "source": [
        "Điền giá trị `Unknown` cho giá trị bị thiếu đối với các cột có kiểu dữ liệu `object`"
      ],
      "metadata": {
        "id": "LhvjFf42AVom"
      }
    },
    {
      "cell_type": "code",
      "source": [
        "unknown_cols = ['author', 'price (including used books)', 'dimensions', 'language', 'publisher', 'ISBN_13']\n",
        "for col in unknown_cols:\n",
        "    df[col].fillna(value='Unknown', inplace=True)\n",
        "df.isna().sum()"
      ],
      "metadata": {
        "colab": {
          "base_uri": "https://localhost:8080/"
        },
        "id": "56WXRnN6w0xf",
        "outputId": "44187a83-da60-4e74-d469-c6d9c103f71a"
      },
      "execution_count": null,
      "outputs": [
        {
          "output_type": "execute_result",
          "data": {
            "text/plain": [
              "title                             0\n",
              "author                            0\n",
              "price                            64\n",
              "price (including used books)      0\n",
              "pages                            56\n",
              "avg_reviews                      85\n",
              "n_reviews                        85\n",
              "star5                            85\n",
              "star4                           151\n",
              "star3                           231\n",
              "star2                           334\n",
              "star1                           457\n",
              "dimensions                        0\n",
              "weight                          125\n",
              "language                          0\n",
              "publisher                         0\n",
              "ISBN_13                           0\n",
              "link                              0\n",
              "complete_link                     0\n",
              "dtype: int64"
            ]
          },
          "metadata": {},
          "execution_count": 67
        }
      ]
    },
    {
      "cell_type": "code",
      "source": [
        "median_cols = ['price', 'avg_reviews', 'weight']\n",
        "for col in median_cols:\n",
        "    df[col].fillna(value=df[col].median(), inplace=True)\n",
        "df.isna().sum()"
      ],
      "metadata": {
        "colab": {
          "base_uri": "https://localhost:8080/"
        },
        "id": "4kzDoPv0ubo9",
        "outputId": "0a2349af-6e21-47b3-fe07-1a840c9b2519"
      },
      "execution_count": null,
      "outputs": [
        {
          "output_type": "execute_result",
          "data": {
            "text/plain": [
              "title                             0\n",
              "author                            0\n",
              "price                             0\n",
              "price (including used books)      0\n",
              "pages                            56\n",
              "avg_reviews                       0\n",
              "n_reviews                        85\n",
              "star5                            85\n",
              "star4                           151\n",
              "star3                           231\n",
              "star2                           334\n",
              "star1                           457\n",
              "dimensions                        0\n",
              "weight                            0\n",
              "language                          0\n",
              "publisher                         0\n",
              "ISBN_13                           0\n",
              "link                              0\n",
              "complete_link                     0\n",
              "dtype: int64"
            ]
          },
          "metadata": {},
          "execution_count": 68
        }
      ]
    },
    {
      "cell_type": "code",
      "source": [
        "int_median_cols = ['pages', 'n_reviews']\n",
        "for col in int_median_cols:\n",
        "    df[col].fillna(value=int(df[col].median()), inplace=True)\n",
        "df.isna().sum()"
      ],
      "metadata": {
        "colab": {
          "base_uri": "https://localhost:8080/"
        },
        "id": "Mo6yR7v2ubey",
        "outputId": "2cb3c8dc-11b8-435d-c28b-e7676cee572c"
      },
      "execution_count": null,
      "outputs": [
        {
          "output_type": "execute_result",
          "data": {
            "text/plain": [
              "title                             0\n",
              "author                            0\n",
              "price                             0\n",
              "price (including used books)      0\n",
              "pages                             0\n",
              "avg_reviews                       0\n",
              "n_reviews                         0\n",
              "star5                            85\n",
              "star4                           151\n",
              "star3                           231\n",
              "star2                           334\n",
              "star1                           457\n",
              "dimensions                        0\n",
              "weight                            0\n",
              "language                          0\n",
              "publisher                         0\n",
              "ISBN_13                           0\n",
              "link                              0\n",
              "complete_link                     0\n",
              "dtype: int64"
            ]
          },
          "metadata": {},
          "execution_count": 69
        }
      ]
    },
    {
      "cell_type": "code",
      "source": [
        "star_columns = ['star5', 'star4', 'star3', 'star2', 'star1']\n",
        "for col in star_columns:\n",
        "    df[col].fillna(value=0, inplace=True)\n",
        "df.isna().sum()"
      ],
      "metadata": {
        "colab": {
          "base_uri": "https://localhost:8080/"
        },
        "id": "n3FzvuuSw0vM",
        "outputId": "f0e0eb86-8c8b-49e2-d42d-d218da00db66"
      },
      "execution_count": null,
      "outputs": [
        {
          "output_type": "execute_result",
          "data": {
            "text/plain": [
              "title                           0\n",
              "author                          0\n",
              "price                           0\n",
              "price (including used books)    0\n",
              "pages                           0\n",
              "avg_reviews                     0\n",
              "n_reviews                       0\n",
              "star5                           0\n",
              "star4                           0\n",
              "star3                           0\n",
              "star2                           0\n",
              "star1                           0\n",
              "dimensions                      0\n",
              "weight                          0\n",
              "language                        0\n",
              "publisher                       0\n",
              "ISBN_13                         0\n",
              "link                            0\n",
              "complete_link                   0\n",
              "dtype: int64"
            ]
          },
          "metadata": {},
          "execution_count": 70
        }
      ]
    },
    {
      "cell_type": "code",
      "source": [
        "df.info()"
      ],
      "metadata": {
        "colab": {
          "base_uri": "https://localhost:8080/"
        },
        "id": "JLECQvFRzX95",
        "outputId": "58170943-4c24-4396-cf4e-38f51c1d0004"
      },
      "execution_count": null,
      "outputs": [
        {
          "output_type": "stream",
          "name": "stdout",
          "text": [
            "<class 'pandas.core.frame.DataFrame'>\n",
            "Int64Index: 785 entries, 0 to 829\n",
            "Data columns (total 19 columns):\n",
            " #   Column                        Non-Null Count  Dtype  \n",
            "---  ------                        --------------  -----  \n",
            " 0   title                         785 non-null    object \n",
            " 1   author                        785 non-null    object \n",
            " 2   price                         785 non-null    float64\n",
            " 3   price (including used books)  785 non-null    object \n",
            " 4   pages                         785 non-null    Int64  \n",
            " 5   avg_reviews                   785 non-null    float64\n",
            " 6   n_reviews                     785 non-null    Int64  \n",
            " 7   star5                         785 non-null    float64\n",
            " 8   star4                         785 non-null    float64\n",
            " 9   star3                         785 non-null    float64\n",
            " 10  star2                         785 non-null    float64\n",
            " 11  star1                         785 non-null    float64\n",
            " 12  dimensions                    785 non-null    object \n",
            " 13  weight                        785 non-null    float64\n",
            " 14  language                      785 non-null    object \n",
            " 15  publisher                     785 non-null    object \n",
            " 16  ISBN_13                       785 non-null    object \n",
            " 17  link                          785 non-null    object \n",
            " 18  complete_link                 785 non-null    object \n",
            "dtypes: Int64(2), float64(8), object(9)\n",
            "memory usage: 124.2+ KB\n"
          ]
        }
      ]
    },
    {
      "cell_type": "code",
      "source": [
        "df.head()"
      ],
      "metadata": {
        "id": "uXjrzoAKwIg-",
        "colab": {
          "base_uri": "https://localhost:8080/",
          "height": 781
        },
        "outputId": "24a77976-186e-470a-b36f-122a622423d1"
      },
      "execution_count": null,
      "outputs": [
        {
          "output_type": "execute_result",
          "data": {
            "text/plain": [
              "                                               title  \\\n",
              "0  Data Analysis Using R (Low Priced Edition): A ...   \n",
              "1  Head First Data Analysis: A learner's guide to...   \n",
              "2  Guerrilla Data Analysis Using Microsoft Excel:...   \n",
              "3  Python for Data Analysis: Data Wrangling with ...   \n",
              "4  Excel Data Analysis For Dummies (For Dummies (...   \n",
              "\n",
              "                       author  price price (including used books)  pages  \\\n",
              "0          [Dr Dhaval Maheta]   6.75                         6.75    500   \n",
              "1                     Unknown  33.72               21.49 - 33.72     484   \n",
              "2  [Oz Du Soleil, Bill Jelen]  32.07                        32.07    274   \n",
              "3          [William Mckinney]  53.99                        53.99    547   \n",
              "4            [Paul Mcfedries]  24.49                        24.49    368   \n",
              "\n",
              "   avg_reviews  n_reviews  star5  star4  star3  star2  star1  \\\n",
              "0          4.4         23   0.55   0.39   0.06   0.00   0.00   \n",
              "1          4.3        124   0.61   0.20   0.09   0.04   0.06   \n",
              "2          4.7         10   0.87   0.13   0.00   0.00   0.00   \n",
              "3          4.6       1686   0.75   0.16   0.05   0.02   0.02   \n",
              "4          3.9         12   0.52   0.17   0.10   0.10   0.10   \n",
              "\n",
              "                  dimensions  weight language  \\\n",
              "0     8.5 x 1.01 x 11 inches   40.48  English   \n",
              "1     8 x 0.98 x 9.25 inches   31.36  English   \n",
              "2  8.25 x 0.6 x 10.75 inches   22.40  English   \n",
              "3     7 x 1.11 x 9.19 inches   23.52  English   \n",
              "4  7.38 x 0.83 x 9.25 inches   20.80  English   \n",
              "\n",
              "                                           publisher         ISBN_13  \\\n",
              "0     Notion Press Media Pvt Ltd (November 22, 2021)  978-1685549596   \n",
              "1      O'Reilly Media; 1st edition (August 18, 2009)  978-0596153939   \n",
              "2  Holy Macro! Books; Third edition (August 1, 2022)  978-1615470747   \n",
              "3    O'Reilly Media; 2nd edition (November 14, 2017)  978-1491957660   \n",
              "4        For Dummies; 5th edition (February 3, 2022)  978-1119844426   \n",
              "\n",
              "                                                link  \\\n",
              "0  /Data-Analysis-Using-Low-Priced/dp/1685549594/...   \n",
              "1  /Head-First-Data-Analysis-statistics/dp/059615...   \n",
              "2  /Guerrilla-Analysis-Using-Microsoft-Excel/dp/1...   \n",
              "3  /Python-Data-Analysis-Wrangling-IPython/dp/149...   \n",
              "4  /Excel-Data-Analysis-Dummies-Computer/dp/11198...   \n",
              "\n",
              "                                       complete_link  \n",
              "0  https://www.amazon.com/Data-Analysis-Using-Low...  \n",
              "1  https://www.amazon.com/Head-First-Data-Analysi...  \n",
              "2  https://www.amazon.com/Guerrilla-Analysis-Usin...  \n",
              "3  https://www.amazon.com/Python-Data-Analysis-Wr...  \n",
              "4  https://www.amazon.com/Excel-Data-Analysis-Dum...  "
            ],
            "text/html": [
              "\n",
              "  <div id=\"df-e22ed0f6-c798-4733-8d03-304fff126117\" class=\"colab-df-container\">\n",
              "    <div>\n",
              "<style scoped>\n",
              "    .dataframe tbody tr th:only-of-type {\n",
              "        vertical-align: middle;\n",
              "    }\n",
              "\n",
              "    .dataframe tbody tr th {\n",
              "        vertical-align: top;\n",
              "    }\n",
              "\n",
              "    .dataframe thead th {\n",
              "        text-align: right;\n",
              "    }\n",
              "</style>\n",
              "<table border=\"1\" class=\"dataframe\">\n",
              "  <thead>\n",
              "    <tr style=\"text-align: right;\">\n",
              "      <th></th>\n",
              "      <th>title</th>\n",
              "      <th>author</th>\n",
              "      <th>price</th>\n",
              "      <th>price (including used books)</th>\n",
              "      <th>pages</th>\n",
              "      <th>avg_reviews</th>\n",
              "      <th>n_reviews</th>\n",
              "      <th>star5</th>\n",
              "      <th>star4</th>\n",
              "      <th>star3</th>\n",
              "      <th>star2</th>\n",
              "      <th>star1</th>\n",
              "      <th>dimensions</th>\n",
              "      <th>weight</th>\n",
              "      <th>language</th>\n",
              "      <th>publisher</th>\n",
              "      <th>ISBN_13</th>\n",
              "      <th>link</th>\n",
              "      <th>complete_link</th>\n",
              "    </tr>\n",
              "  </thead>\n",
              "  <tbody>\n",
              "    <tr>\n",
              "      <th>0</th>\n",
              "      <td>Data Analysis Using R (Low Priced Edition): A ...</td>\n",
              "      <td>[Dr Dhaval Maheta]</td>\n",
              "      <td>6.75</td>\n",
              "      <td>6.75</td>\n",
              "      <td>500</td>\n",
              "      <td>4.4</td>\n",
              "      <td>23</td>\n",
              "      <td>0.55</td>\n",
              "      <td>0.39</td>\n",
              "      <td>0.06</td>\n",
              "      <td>0.00</td>\n",
              "      <td>0.00</td>\n",
              "      <td>8.5 x 1.01 x 11 inches</td>\n",
              "      <td>40.48</td>\n",
              "      <td>English</td>\n",
              "      <td>Notion Press Media Pvt Ltd (November 22, 2021)</td>\n",
              "      <td>978-1685549596</td>\n",
              "      <td>/Data-Analysis-Using-Low-Priced/dp/1685549594/...</td>\n",
              "      <td>https://www.amazon.com/Data-Analysis-Using-Low...</td>\n",
              "    </tr>\n",
              "    <tr>\n",
              "      <th>1</th>\n",
              "      <td>Head First Data Analysis: A learner's guide to...</td>\n",
              "      <td>Unknown</td>\n",
              "      <td>33.72</td>\n",
              "      <td>21.49 - 33.72</td>\n",
              "      <td>484</td>\n",
              "      <td>4.3</td>\n",
              "      <td>124</td>\n",
              "      <td>0.61</td>\n",
              "      <td>0.20</td>\n",
              "      <td>0.09</td>\n",
              "      <td>0.04</td>\n",
              "      <td>0.06</td>\n",
              "      <td>8 x 0.98 x 9.25 inches</td>\n",
              "      <td>31.36</td>\n",
              "      <td>English</td>\n",
              "      <td>O'Reilly Media; 1st edition (August 18, 2009)</td>\n",
              "      <td>978-0596153939</td>\n",
              "      <td>/Head-First-Data-Analysis-statistics/dp/059615...</td>\n",
              "      <td>https://www.amazon.com/Head-First-Data-Analysi...</td>\n",
              "    </tr>\n",
              "    <tr>\n",
              "      <th>2</th>\n",
              "      <td>Guerrilla Data Analysis Using Microsoft Excel:...</td>\n",
              "      <td>[Oz Du Soleil, Bill Jelen]</td>\n",
              "      <td>32.07</td>\n",
              "      <td>32.07</td>\n",
              "      <td>274</td>\n",
              "      <td>4.7</td>\n",
              "      <td>10</td>\n",
              "      <td>0.87</td>\n",
              "      <td>0.13</td>\n",
              "      <td>0.00</td>\n",
              "      <td>0.00</td>\n",
              "      <td>0.00</td>\n",
              "      <td>8.25 x 0.6 x 10.75 inches</td>\n",
              "      <td>22.40</td>\n",
              "      <td>English</td>\n",
              "      <td>Holy Macro! Books; Third edition (August 1, 2022)</td>\n",
              "      <td>978-1615470747</td>\n",
              "      <td>/Guerrilla-Analysis-Using-Microsoft-Excel/dp/1...</td>\n",
              "      <td>https://www.amazon.com/Guerrilla-Analysis-Usin...</td>\n",
              "    </tr>\n",
              "    <tr>\n",
              "      <th>3</th>\n",
              "      <td>Python for Data Analysis: Data Wrangling with ...</td>\n",
              "      <td>[William Mckinney]</td>\n",
              "      <td>53.99</td>\n",
              "      <td>53.99</td>\n",
              "      <td>547</td>\n",
              "      <td>4.6</td>\n",
              "      <td>1686</td>\n",
              "      <td>0.75</td>\n",
              "      <td>0.16</td>\n",
              "      <td>0.05</td>\n",
              "      <td>0.02</td>\n",
              "      <td>0.02</td>\n",
              "      <td>7 x 1.11 x 9.19 inches</td>\n",
              "      <td>23.52</td>\n",
              "      <td>English</td>\n",
              "      <td>O'Reilly Media; 2nd edition (November 14, 2017)</td>\n",
              "      <td>978-1491957660</td>\n",
              "      <td>/Python-Data-Analysis-Wrangling-IPython/dp/149...</td>\n",
              "      <td>https://www.amazon.com/Python-Data-Analysis-Wr...</td>\n",
              "    </tr>\n",
              "    <tr>\n",
              "      <th>4</th>\n",
              "      <td>Excel Data Analysis For Dummies (For Dummies (...</td>\n",
              "      <td>[Paul Mcfedries]</td>\n",
              "      <td>24.49</td>\n",
              "      <td>24.49</td>\n",
              "      <td>368</td>\n",
              "      <td>3.9</td>\n",
              "      <td>12</td>\n",
              "      <td>0.52</td>\n",
              "      <td>0.17</td>\n",
              "      <td>0.10</td>\n",
              "      <td>0.10</td>\n",
              "      <td>0.10</td>\n",
              "      <td>7.38 x 0.83 x 9.25 inches</td>\n",
              "      <td>20.80</td>\n",
              "      <td>English</td>\n",
              "      <td>For Dummies; 5th edition (February 3, 2022)</td>\n",
              "      <td>978-1119844426</td>\n",
              "      <td>/Excel-Data-Analysis-Dummies-Computer/dp/11198...</td>\n",
              "      <td>https://www.amazon.com/Excel-Data-Analysis-Dum...</td>\n",
              "    </tr>\n",
              "  </tbody>\n",
              "</table>\n",
              "</div>\n",
              "    <div class=\"colab-df-buttons\">\n",
              "\n",
              "  <div class=\"colab-df-container\">\n",
              "    <button class=\"colab-df-convert\" onclick=\"convertToInteractive('df-e22ed0f6-c798-4733-8d03-304fff126117')\"\n",
              "            title=\"Convert this dataframe to an interactive table.\"\n",
              "            style=\"display:none;\">\n",
              "\n",
              "  <svg xmlns=\"http://www.w3.org/2000/svg\" height=\"24px\" viewBox=\"0 -960 960 960\">\n",
              "    <path d=\"M120-120v-720h720v720H120Zm60-500h600v-160H180v160Zm220 220h160v-160H400v160Zm0 220h160v-160H400v160ZM180-400h160v-160H180v160Zm440 0h160v-160H620v160ZM180-180h160v-160H180v160Zm440 0h160v-160H620v160Z\"/>\n",
              "  </svg>\n",
              "    </button>\n",
              "\n",
              "  <style>\n",
              "    .colab-df-container {\n",
              "      display:flex;\n",
              "      gap: 12px;\n",
              "    }\n",
              "\n",
              "    .colab-df-convert {\n",
              "      background-color: #E8F0FE;\n",
              "      border: none;\n",
              "      border-radius: 50%;\n",
              "      cursor: pointer;\n",
              "      display: none;\n",
              "      fill: #1967D2;\n",
              "      height: 32px;\n",
              "      padding: 0 0 0 0;\n",
              "      width: 32px;\n",
              "    }\n",
              "\n",
              "    .colab-df-convert:hover {\n",
              "      background-color: #E2EBFA;\n",
              "      box-shadow: 0px 1px 2px rgba(60, 64, 67, 0.3), 0px 1px 3px 1px rgba(60, 64, 67, 0.15);\n",
              "      fill: #174EA6;\n",
              "    }\n",
              "\n",
              "    .colab-df-buttons div {\n",
              "      margin-bottom: 4px;\n",
              "    }\n",
              "\n",
              "    [theme=dark] .colab-df-convert {\n",
              "      background-color: #3B4455;\n",
              "      fill: #D2E3FC;\n",
              "    }\n",
              "\n",
              "    [theme=dark] .colab-df-convert:hover {\n",
              "      background-color: #434B5C;\n",
              "      box-shadow: 0px 1px 3px 1px rgba(0, 0, 0, 0.15);\n",
              "      filter: drop-shadow(0px 1px 2px rgba(0, 0, 0, 0.3));\n",
              "      fill: #FFFFFF;\n",
              "    }\n",
              "  </style>\n",
              "\n",
              "    <script>\n",
              "      const buttonEl =\n",
              "        document.querySelector('#df-e22ed0f6-c798-4733-8d03-304fff126117 button.colab-df-convert');\n",
              "      buttonEl.style.display =\n",
              "        google.colab.kernel.accessAllowed ? 'block' : 'none';\n",
              "\n",
              "      async function convertToInteractive(key) {\n",
              "        const element = document.querySelector('#df-e22ed0f6-c798-4733-8d03-304fff126117');\n",
              "        const dataTable =\n",
              "          await google.colab.kernel.invokeFunction('convertToInteractive',\n",
              "                                                    [key], {});\n",
              "        if (!dataTable) return;\n",
              "\n",
              "        const docLinkHtml = 'Like what you see? Visit the ' +\n",
              "          '<a target=\"_blank\" href=https://colab.research.google.com/notebooks/data_table.ipynb>data table notebook</a>'\n",
              "          + ' to learn more about interactive tables.';\n",
              "        element.innerHTML = '';\n",
              "        dataTable['output_type'] = 'display_data';\n",
              "        await google.colab.output.renderOutput(dataTable, element);\n",
              "        const docLink = document.createElement('div');\n",
              "        docLink.innerHTML = docLinkHtml;\n",
              "        element.appendChild(docLink);\n",
              "      }\n",
              "    </script>\n",
              "  </div>\n",
              "\n",
              "\n",
              "<div id=\"df-d7a320e0-5657-4530-a42e-2be92c258494\">\n",
              "  <button class=\"colab-df-quickchart\" onclick=\"quickchart('df-d7a320e0-5657-4530-a42e-2be92c258494')\"\n",
              "            title=\"Suggest charts\"\n",
              "            style=\"display:none;\">\n",
              "\n",
              "<svg xmlns=\"http://www.w3.org/2000/svg\" height=\"24px\"viewBox=\"0 0 24 24\"\n",
              "     width=\"24px\">\n",
              "    <g>\n",
              "        <path d=\"M19 3H5c-1.1 0-2 .9-2 2v14c0 1.1.9 2 2 2h14c1.1 0 2-.9 2-2V5c0-1.1-.9-2-2-2zM9 17H7v-7h2v7zm4 0h-2V7h2v10zm4 0h-2v-4h2v4z\"/>\n",
              "    </g>\n",
              "</svg>\n",
              "  </button>\n",
              "\n",
              "<style>\n",
              "  .colab-df-quickchart {\n",
              "      --bg-color: #E8F0FE;\n",
              "      --fill-color: #1967D2;\n",
              "      --hover-bg-color: #E2EBFA;\n",
              "      --hover-fill-color: #174EA6;\n",
              "      --disabled-fill-color: #AAA;\n",
              "      --disabled-bg-color: #DDD;\n",
              "  }\n",
              "\n",
              "  [theme=dark] .colab-df-quickchart {\n",
              "      --bg-color: #3B4455;\n",
              "      --fill-color: #D2E3FC;\n",
              "      --hover-bg-color: #434B5C;\n",
              "      --hover-fill-color: #FFFFFF;\n",
              "      --disabled-bg-color: #3B4455;\n",
              "      --disabled-fill-color: #666;\n",
              "  }\n",
              "\n",
              "  .colab-df-quickchart {\n",
              "    background-color: var(--bg-color);\n",
              "    border: none;\n",
              "    border-radius: 50%;\n",
              "    cursor: pointer;\n",
              "    display: none;\n",
              "    fill: var(--fill-color);\n",
              "    height: 32px;\n",
              "    padding: 0;\n",
              "    width: 32px;\n",
              "  }\n",
              "\n",
              "  .colab-df-quickchart:hover {\n",
              "    background-color: var(--hover-bg-color);\n",
              "    box-shadow: 0 1px 2px rgba(60, 64, 67, 0.3), 0 1px 3px 1px rgba(60, 64, 67, 0.15);\n",
              "    fill: var(--button-hover-fill-color);\n",
              "  }\n",
              "\n",
              "  .colab-df-quickchart-complete:disabled,\n",
              "  .colab-df-quickchart-complete:disabled:hover {\n",
              "    background-color: var(--disabled-bg-color);\n",
              "    fill: var(--disabled-fill-color);\n",
              "    box-shadow: none;\n",
              "  }\n",
              "\n",
              "  .colab-df-spinner {\n",
              "    border: 2px solid var(--fill-color);\n",
              "    border-color: transparent;\n",
              "    border-bottom-color: var(--fill-color);\n",
              "    animation:\n",
              "      spin 1s steps(1) infinite;\n",
              "  }\n",
              "\n",
              "  @keyframes spin {\n",
              "    0% {\n",
              "      border-color: transparent;\n",
              "      border-bottom-color: var(--fill-color);\n",
              "      border-left-color: var(--fill-color);\n",
              "    }\n",
              "    20% {\n",
              "      border-color: transparent;\n",
              "      border-left-color: var(--fill-color);\n",
              "      border-top-color: var(--fill-color);\n",
              "    }\n",
              "    30% {\n",
              "      border-color: transparent;\n",
              "      border-left-color: var(--fill-color);\n",
              "      border-top-color: var(--fill-color);\n",
              "      border-right-color: var(--fill-color);\n",
              "    }\n",
              "    40% {\n",
              "      border-color: transparent;\n",
              "      border-right-color: var(--fill-color);\n",
              "      border-top-color: var(--fill-color);\n",
              "    }\n",
              "    60% {\n",
              "      border-color: transparent;\n",
              "      border-right-color: var(--fill-color);\n",
              "    }\n",
              "    80% {\n",
              "      border-color: transparent;\n",
              "      border-right-color: var(--fill-color);\n",
              "      border-bottom-color: var(--fill-color);\n",
              "    }\n",
              "    90% {\n",
              "      border-color: transparent;\n",
              "      border-bottom-color: var(--fill-color);\n",
              "    }\n",
              "  }\n",
              "</style>\n",
              "\n",
              "  <script>\n",
              "    async function quickchart(key) {\n",
              "      const quickchartButtonEl =\n",
              "        document.querySelector('#' + key + ' button');\n",
              "      quickchartButtonEl.disabled = true;  // To prevent multiple clicks.\n",
              "      quickchartButtonEl.classList.add('colab-df-spinner');\n",
              "      try {\n",
              "        const charts = await google.colab.kernel.invokeFunction(\n",
              "            'suggestCharts', [key], {});\n",
              "      } catch (error) {\n",
              "        console.error('Error during call to suggestCharts:', error);\n",
              "      }\n",
              "      quickchartButtonEl.classList.remove('colab-df-spinner');\n",
              "      quickchartButtonEl.classList.add('colab-df-quickchart-complete');\n",
              "    }\n",
              "    (() => {\n",
              "      let quickchartButtonEl =\n",
              "        document.querySelector('#df-d7a320e0-5657-4530-a42e-2be92c258494 button');\n",
              "      quickchartButtonEl.style.display =\n",
              "        google.colab.kernel.accessAllowed ? 'block' : 'none';\n",
              "    })();\n",
              "  </script>\n",
              "</div>\n",
              "    </div>\n",
              "  </div>\n"
            ]
          },
          "metadata": {},
          "execution_count": 72
        }
      ]
    },
    {
      "cell_type": "code",
      "source": [
        "# Check for consistency between price and price range columns\n",
        "inconsistent_price = df[df['price'].astype(str) != df['price (including used books)']]\n",
        "if inconsistent_price.empty:\n",
        "    print(\"Price columns are consistent.\")\n",
        "else:\n",
        "    print(\"Inconsistent price values found:\")\n",
        "    print(inconsistent_price[['price', 'price (including used books)']])"
      ],
      "metadata": {
        "id": "syqdYPnUEzOa",
        "colab": {
          "base_uri": "https://localhost:8080/"
        },
        "outputId": "e3801be1-a758-4a18-f9f5-3851c9b30a70"
      },
      "execution_count": null,
      "outputs": [
        {
          "output_type": "stream",
          "name": "stdout",
          "text": [
            "Inconsistent price values found:\n",
            "      price price (including used books)\n",
            "1     33.72               21.49 - 33.72 \n",
            "5     39.49                      Unknown\n",
            "7     90.00                           90\n",
            "8     54.19               53.98 - 54.19 \n",
            "9     56.99               47.97 - 56.99 \n",
            "..      ...                          ...\n",
            "813  120.00                          120\n",
            "814   49.99               44.47 - 49.99 \n",
            "815   45.42               39.99 - 45.42 \n",
            "825    5.33                8.55 - 35.33 \n",
            "826   55.18               52.41 - 55.18 \n",
            "\n",
            "[360 rows x 2 columns]\n"
          ]
        }
      ]
    },
    {
      "cell_type": "code",
      "source": [],
      "metadata": {
        "id": "_fQAC5ybCCP-"
      },
      "execution_count": null,
      "outputs": []
    },
    {
      "cell_type": "code",
      "source": [
        "# df = df.drop(['price (including used books)','ISBN_13','link','complete_link' ], axis=1)\n",
        "# df.shape"
      ],
      "metadata": {
        "colab": {
          "base_uri": "https://localhost:8080/"
        },
        "id": "L9fPE59Fc40y",
        "outputId": "72e46eb6-574a-4811-c8c4-5f37e9664b19"
      },
      "execution_count": null,
      "outputs": [
        {
          "output_type": "execute_result",
          "data": {
            "text/plain": [
              "(822, 15)"
            ]
          },
          "metadata": {},
          "execution_count": 23
        }
      ]
    },
    {
      "cell_type": "markdown",
      "source": [
        "### Feature Engineering"
      ],
      "metadata": {
        "id": "ybKn9raaMGzO"
      }
    },
    {
      "cell_type": "code",
      "source": [
        "import pandas as pd\n",
        "import numpy as np\n",
        "\n",
        "# Load the dataset\n",
        "# df = pd.read_csv('your_dataset.csv')\n",
        "\n",
        "# Feature Engineering\n",
        "# Extracting Information from 'dimensions' column\n",
        "df[['length', 'width', 'height']] = df['dimensions'].str.split('x', expand=True)\n",
        "df['length'] = pd.to_numeric(df['length'], errors='coerce')\n",
        "df['width'] = pd.to_numeric(df['width'], errors='coerce')\n",
        "df['height'] = pd.to_numeric(df['height'], errors='coerce')\n",
        "\n",
        "# Creating a new feature 'volume' from dimensions\n",
        "df['volume'] = df['length'] * df['width'] * df['height']\n",
        "\n",
        "# Extracting language family from 'language' column (if applicable)\n",
        "df['language_family'] = df['language'].str.split(' ', n=1).str[0]\n",
        "\n",
        "# Feature based on average reviews and number of reviews\n",
        "# df['total_reviews'] = df['avg_reviews'] * df['n_reviews']\n",
        "\n",
        "# Categorizing price into different ranges\n",
        "bins = [0, 25, 50, 100, np.inf]\n",
        "labels = ['Low', 'Medium', 'High', 'Very High']\n",
        "df['price_range'] = pd.cut(df['price'], bins=bins, labels=labels)\n",
        "\n",
        "# Encoding categorical variables (if needed)\n",
        "# Example: One-hot encoding for 'language_family' column\n",
        "df = pd.get_dummies(df, columns=['language_family'], prefix='language')\n",
        "\n",
        "# Drop columns that are no longer needed or redundant after feature engineering\n",
        "columns_to_drop = ['dimensions', 'length', 'width', 'height', 'language']\n",
        "df.drop(columns=columns_to_drop, inplace=True)\n",
        "\n",
        "# Displaying the modified dataset\n",
        "print(df.head())"
      ],
      "metadata": {
        "colab": {
          "base_uri": "https://localhost:8080/"
        },
        "id": "k1s89nJEipNZ",
        "outputId": "dcb2a73e-8de2-4154-c2cb-0228ecf8e8b2"
      },
      "execution_count": null,
      "outputs": [
        {
          "output_type": "stream",
          "name": "stdout",
          "text": [
            "                                               title  \\\n",
            "0  Data Analysis Using R (Low Priced Edition): A ...   \n",
            "1  Head First Data Analysis: A learner's guide to...   \n",
            "2  Guerrilla Data Analysis Using Microsoft Excel:...   \n",
            "3  Python for Data Analysis: Data Wrangling with ...   \n",
            "4  Excel Data Analysis For Dummies (For Dummies (...   \n",
            "\n",
            "                               author  price price (including used books)  \\\n",
            "0                 [ Dr Dhaval Maheta]   6.75                         6.75   \n",
            "1                                 NaN  33.72               21.49 - 33.72    \n",
            "2  [ Oz du Soleil,  and , Bill Jelen]  32.07                        32.07   \n",
            "3                 [ William McKinney]  53.99                        53.99   \n",
            "4                   [ Paul McFedries]  24.49                        24.49   \n",
            "\n",
            "   pages  avg_reviews n_reviews star5 star4 star3  ... language_\"Brilliant.\"  \\\n",
            "0  500.0          4.4        23    55    39     6  ...                     0   \n",
            "1  484.0          4.3       124    61    20     9  ...                     0   \n",
            "2  274.0          4.7        10    87    13   NaN  ...                     0   \n",
            "3  547.0          4.6     1,686    75    16     5  ...                     0   \n",
            "4  368.0          3.9        12    52    17    10  ...                     0   \n",
            "\n",
            "  language_Concepts language_English language_Scroll language_Spanish  \\\n",
            "0                 0                1               0                0   \n",
            "1                 0                1               0                0   \n",
            "2                 0                1               0                0   \n",
            "3                 0                1               0                0   \n",
            "4                 0                1               0                0   \n",
            "\n",
            "  language_This language_Unqualified,  language_standard language_you  \\\n",
            "0             0                     0                  0            0   \n",
            "1             0                     0                  0            0   \n",
            "2             0                     0                  0            0   \n",
            "3             0                     0                  0            0   \n",
            "4             0                     0                  0            0   \n",
            "\n",
            "   language_•  \n",
            "0           0  \n",
            "1           0  \n",
            "2           0  \n",
            "3           0  \n",
            "4           0  \n",
            "\n",
            "[5 rows x 29 columns]\n"
          ]
        }
      ]
    },
    {
      "cell_type": "markdown",
      "source": [
        "Đối với cả cột pages, n_reviews thực hiện xóa dấu phẩy từ các giá trị chuỗi, phương thức replace của string, `str.replace` để tìm và thay thế dấu phẩy bằng chuỗi rỗng. Cột n_reviews sau đó chỉ cần chuyển đổi kiểu dữ liệu của cột thành kiểu float (không sử dụng int vì các cột còn chứa dữ liệu thiếu chưa xử lí).\n",
        "\n",
        "Các bước xử lí còn lại của cột pages:\n",
        "\n",
        "Xác định các hàng chứa giá trị không phải số sử dụng phương thức str.isnumeric() để kiểm tra xem giá trị trong cột có phải là giá trị số hay không. ‘==False’ để lấy được các hàng chứa giá trị không phải số sẽ được xác định, sau đó sử dụng .index để tìm index của các hàng này.\n"
      ],
      "metadata": {
        "id": "iiD13owZn9q5"
      }
    },
    {
      "cell_type": "code",
      "source": [
        "df.pages = df.pages.str.replace(',','')\n",
        "non_numerical_row_index = df[df.pages.str.isnumeric() == False].index\n",
        "df = df.drop(non_numerical_row_index)\n",
        "df.pages = df.pages.astype(float)"
      ],
      "metadata": {
        "id": "6h4_nQQyoOsN"
      },
      "execution_count": null,
      "outputs": []
    },
    {
      "cell_type": "code",
      "source": [
        "df.n_reviews = df.n_reviews.str.replace(',','').astype(float)"
      ],
      "metadata": {
        "id": "o54Z3o4yohT7"
      },
      "execution_count": null,
      "outputs": []
    },
    {
      "cell_type": "markdown",
      "source": [
        "Kết quả sau khi xử lý:"
      ],
      "metadata": {
        "id": "ZDxsm87XoxXz"
      }
    },
    {
      "cell_type": "code",
      "source": [
        "df.info()"
      ],
      "metadata": {
        "colab": {
          "base_uri": "https://localhost:8080/"
        },
        "id": "YPXgZv6wofL1",
        "outputId": "18c2f8a6-5999-4ae3-b2ba-4d04364daa19"
      },
      "execution_count": null,
      "outputs": [
        {
          "output_type": "stream",
          "name": "stdout",
          "text": [
            "<class 'pandas.core.frame.DataFrame'>\n",
            "Int64Index: 822 entries, 0 to 829\n",
            "Data columns (total 19 columns):\n",
            " #   Column                        Non-Null Count  Dtype  \n",
            "---  ------                        --------------  -----  \n",
            " 0   title                         822 non-null    object \n",
            " 1   author                        650 non-null    object \n",
            " 2   price                         714 non-null    float64\n",
            " 3   price (including used books)  714 non-null    object \n",
            " 4   pages                         737 non-null    float64\n",
            " 5   avg_reviews                   696 non-null    float64\n",
            " 6   n_reviews                     696 non-null    float64\n",
            " 7   star5                         696 non-null    object \n",
            " 8   star4                         629 non-null    object \n",
            " 9   star3                         549 non-null    object \n",
            " 10  star2                         446 non-null    object \n",
            " 11  star1                         324 non-null    object \n",
            " 12  dimensions                    636 non-null    object \n",
            " 13  weight                        643 non-null    object \n",
            " 14  language                      751 non-null    object \n",
            " 15  publisher                     706 non-null    object \n",
            " 16  ISBN_13                       658 non-null    object \n",
            " 17  link                          822 non-null    object \n",
            " 18  complete_link                 822 non-null    object \n",
            "dtypes: float64(4), object(15)\n",
            "memory usage: 128.4+ KB\n"
          ]
        }
      ]
    },
    {
      "cell_type": "code",
      "source": [
        "non_numerical_cols = list(df.dtypes[df.dtypes==object].index)\n",
        "numerical_data = df.drop(non_numerical_cols, axis=1)\n",
        "plt.subplots(figsize = (19,7))\n",
        "sns.boxplot(data=numerical_data)\n",
        "plt.title('BIỂU ĐỒ THỂ HIỆN OUTLIER CỦA CÁC CỘT', fontsize=15, fontweight='bold')\n",
        "plt.show()"
      ],
      "metadata": {
        "id": "dwd03Vbb48vh",
        "colab": {
          "base_uri": "https://localhost:8080/",
          "height": 477
        },
        "outputId": "9b3702cc-2350-4db2-ed9c-7ad32f1b7d06"
      },
      "execution_count": null,
      "outputs": [
        {
          "output_type": "display_data",
          "data": {
            "text/plain": [
              "<Figure size 1900x700 with 1 Axes>"
            ],
            "image/png": "[encoded data removed]"
          },
          "metadata": {}
        }
      ]
    },
    {
      "cell_type": "code",
      "source": [
        "scaler = MinMaxScaler()\n",
        "numerical_data = df[df.columns[df.dtypes != 'object']]\n",
        "sa = scaler.fit_transform(numerical_data)\n",
        "sd = pd.DataFrame(sa,columns=numerical_data.columns)\n",
        "plt.subplots(figsize = (19,7))\n",
        "sns.boxplot(data = sd)\n",
        "plt.title('BIỂU ĐỒ THỂ HIỆN OUTLIER CỦA CÁC CỘT ÁP DỤNG MINMAXSCALER',fontsize=15,color = 'red',fontweight='bold')\n",
        "plt.show()"
      ],
      "metadata": {
        "colab": {
          "base_uri": "https://localhost:8080/",
          "height": 484
        },
        "id": "erC8z508pbby",
        "outputId": "ace88ad5-ad46-46a5-af80-e0032e04c04b"
      },
      "execution_count": null,
      "outputs": [
        {
          "output_type": "display_data",
          "data": {
            "text/plain": [
              "<Figure size 1900x700 with 1 Axes>"
            ],
            "image/png": "[encoded data removed]"
          },
          "metadata": {}
        }
      ]
    },
    {
      "cell_type": "code",
      "source": [],
      "metadata": {
        "id": "fDumGPfEWjxJ"
      },
      "execution_count": null,
      "outputs": []
    },
    {
      "cell_type": "markdown",
      "source": [
        "## 3. Phân tích và biểu diễn trực quan các thuộc tính sử dụng trong báo cáo của bộ dữ liệu sau tiền xử lý"
      ],
      "metadata": {
        "id": "mjmSFBpGWmrY"
      }
    },
    {
      "cell_type": "code",
      "source": [],
      "metadata": {
        "id": "WT7JRvuuWu5h"
      },
      "execution_count": null,
      "outputs": []
    },
    {
      "cell_type": "code",
      "source": [],
      "metadata": {
        "id": "I2pjeZ0iWv8Q"
      },
      "execution_count": null,
      "outputs": []
    },
    {
      "cell_type": "code",
      "source": [],
      "metadata": {
        "id": "w3M6Pd-PWv6C"
      },
      "execution_count": null,
      "outputs": []
    },
    {
      "cell_type": "code",
      "source": [],
      "metadata": {
        "id": "_642GNiXWv3Q"
      },
      "execution_count": null,
      "outputs": []
    },
    {
      "cell_type": "code",
      "source": [],
      "metadata": {
        "id": "MP-dy9uNWvy4"
      },
      "execution_count": null,
      "outputs": []
    },
    {
      "cell_type": "markdown",
      "source": [
        "# **Chương 4:**"
      ],
      "metadata": {
        "id": "3CrYJz_NWwSi"
      }
    },
    {
      "cell_type": "markdown",
      "source": [
        "\n",
        "## 1. Phân cụm dữ liệu"
      ],
      "metadata": {
        "id": "pXsSNKfAbaAr"
      }
    },
    {
      "cell_type": "code",
      "source": [
        "import numpy as np\n",
        "import matplotlib.pyplot as plt\n",
        "from scipy.spatial.distance import cdist\n",
        "np.random.seed(11)"
      ],
      "metadata": {
        "id": "pV1ksc1n4McS"
      },
      "execution_count": null,
      "outputs": []
    },
    {
      "cell_type": "code",
      "source": [
        "df"
      ],
      "metadata": {
        "colab": {
          "base_uri": "https://localhost:8080/",
          "height": 1000
        },
        "id": "H-2j-IktzQfV",
        "outputId": "2a444ec9-41b5-4e0c-92b4-6fa76317294a"
      },
      "execution_count": null,
      "outputs": [
        {
          "output_type": "execute_result",
          "data": {
            "text/plain": [
              "                                                 title  \\\n",
              "0    Data Analysis Using R (Low Priced Edition): A ...   \n",
              "1    Head First Data Analysis: A learner's guide to...   \n",
              "2    Guerrilla Data Analysis Using Microsoft Excel:...   \n",
              "3    Python for Data Analysis: Data Wrangling with ...   \n",
              "4    Excel Data Analysis For Dummies (For Dummies (...   \n",
              "..                                                 ...   \n",
              "825   Deep Learning: Engage the World Change the World   \n",
              "826  Machine Learning in Finance: From Theory to Pr...   \n",
              "827  Practical Deep Learning at Scale with MLflow: ...   \n",
              "828  Clinical Biostatistics and Epidemiology Made R...   \n",
              "829  AI and Machine Learning for Coders: A Programm...   \n",
              "\n",
              "                                         author  price  \\\n",
              "0                           [ Dr Dhaval Maheta]   6.75   \n",
              "1                                           NaN  33.72   \n",
              "2            [ Oz du Soleil,  and , Bill Jelen]  32.07   \n",
              "3                           [ William McKinney]  53.99   \n",
              "4                             [ Paul McFedries]  24.49   \n",
              "..                                          ...    ...   \n",
              "825     [ Michael Fullan, Joanne Quinn, et al.]   5.33   \n",
              "826  [ Matthew F. Dixon, Igor Halperin, et al.]  55.18   \n",
              "827       [ Yong Liu,  and , Dr. Matei Zaharia]  44.99   \n",
              "828                                         NaN    NaN   \n",
              "829                         [ Laurence Moroney]  38.49   \n",
              "\n",
              "    price (including used books) pages  avg_reviews n_reviews star5 star4  \\\n",
              "0                           6.75   500          4.4        23   55%   39%   \n",
              "1                 21.49 - 33.72    484          4.3       124   61%   20%   \n",
              "2                          32.07   274          4.7        10   87%   13%   \n",
              "3                          53.99   547          4.6     1,686   75%   16%   \n",
              "4                          24.49   368          3.9        12   52%   17%   \n",
              "..                           ...   ...          ...       ...   ...   ...   \n",
              "825                8.55 - 35.33    208          4.5        74   72%   14%   \n",
              "826               52.41 - 55.18    573          4.5        93   78%    7%   \n",
              "827                        44.99   288          4.8         8   83%   17%   \n",
              "828                          NaN   NaN          NaN       NaN   NaN   NaN   \n",
              "829                        38.49   NaN          4.7       142   79%   15%   \n",
              "\n",
              "    star3 star2 star1                 dimensions       weight language  \\\n",
              "0      6%   NaN   NaN     8.5 x 1.01 x 11 inches  2.53 pounds  English   \n",
              "1      9%    4%    6%     8 x 0.98 x 9.25 inches  1.96 pounds  English   \n",
              "2     NaN   NaN   NaN  8.25 x 0.6 x 10.75 inches   1.4 pounds  English   \n",
              "3      5%    2%    2%     7 x 1.11 x 9.19 inches  1.47 pounds  English   \n",
              "4     10%   10%   10%  7.38 x 0.83 x 9.25 inches   1.3 pounds  English   \n",
              "..    ...   ...   ...                        ...          ...      ...   \n",
              "825    7%    2%    4%       7 x 0.47 x 10 inches  15.5 ounces  English   \n",
              "826    7%    4%    4%  6.14 x 1.25 x 9.21 inches  2.25 pounds  English   \n",
              "827   NaN   NaN   NaN   7.5 x 0.65 x 9.25 inches   1.1 pounds  English   \n",
              "828   NaN   NaN   NaN                        NaN          NaN      NaN   \n",
              "829    4%    1%    1%                        NaN          NaN      NaN   \n",
              "\n",
              "                                             publisher         ISBN_13  \\\n",
              "0       Notion Press Media Pvt Ltd (November 22, 2021)  978-1685549596   \n",
              "1        O'Reilly Media; 1st edition (August 18, 2009)  978-0596153939   \n",
              "2    Holy Macro! Books; Third edition (August 1, 2022)  978-1615470747   \n",
              "3      O'Reilly Media; 2nd edition (November 14, 2017)  978-1491957660   \n",
              "4          For Dummies; 5th edition (February 3, 2022)  978-1119844426   \n",
              "..                                                 ...             ...   \n",
              "825          Corwin; First edition (December 15, 2017)              59   \n",
              "826      Springer; 1st ed. 2020 edition (July 2, 2020)                   \n",
              "827                    Packt Publishing (July 8, 2022)  978-1803241333   \n",
              "828                                                NaN             NaN   \n",
              "829                                                NaN                   \n",
              "\n",
              "                                                  link  \\\n",
              "0    /Data-Analysis-Using-Low-Priced/dp/1685549594/...   \n",
              "1    /Head-First-Data-Analysis-statistics/dp/059615...   \n",
              "2    /Guerrilla-Analysis-Using-Microsoft-Excel/dp/1...   \n",
              "3    /Python-Data-Analysis-Wrangling-IPython/dp/149...   \n",
              "4    /Excel-Data-Analysis-Dummies-Computer/dp/11198...   \n",
              "..                                                 ...   \n",
              "825  /Deep-Learning-Engage-World-Change/dp/15063685...   \n",
              "826  /Machine-Learning-Finance-Theory-Practice/dp/3...   \n",
              "827  /gp/slredirect/picassoRedirect.html/ref=pa_sp_...   \n",
              "828  /Clinical-Biostatistics-Epidemiology-Ridiculou...   \n",
              "829  /Machine-Learning-Coders-Programmers-Intellige...   \n",
              "\n",
              "                                         complete_link  \n",
              "0    https://www.amazon.com/Data-Analysis-Using-Low...  \n",
              "1    https://www.amazon.com/Head-First-Data-Analysi...  \n",
              "2    https://www.amazon.com/Guerrilla-Analysis-Usin...  \n",
              "3    https://www.amazon.com/Python-Data-Analysis-Wr...  \n",
              "4    https://www.amazon.com/Excel-Data-Analysis-Dum...  \n",
              "..                                                 ...  \n",
              "825  https://www.amazon.com/Deep-Learning-Engage-Wo...  \n",
              "826  https://www.amazon.com/Machine-Learning-Financ...  \n",
              "827  https://www.amazon.com/gp/slredirect/picassoRe...  \n",
              "828  https://www.amazon.com/Clinical-Biostatistics-...  \n",
              "829  https://www.amazon.com/Machine-Learning-Coders...  \n",
              "\n",
              "[830 rows x 19 columns]"
            ],
            "text/html": [
              "\n",
              "  <div id=\"df-a0c76bb5-2360-4a4c-bea1-fb6458b870d5\" class=\"colab-df-container\">\n",
              "    <div>\n",
              "<style scoped>\n",
              "    .dataframe tbody tr th:only-of-type {\n",
              "        vertical-align: middle;\n",
              "    }\n",
              "\n",
              "    .dataframe tbody tr th {\n",
              "        vertical-align: top;\n",
              "    }\n",
              "\n",
              "    .dataframe thead th {\n",
              "        text-align: right;\n",
              "    }\n",
              "</style>\n",
              "<table border=\"1\" class=\"dataframe\">\n",
              "  <thead>\n",
              "    <tr style=\"text-align: right;\">\n",
              "      <th></th>\n",
              "      <th>title</th>\n",
              "      <th>author</th>\n",
              "      <th>price</th>\n",
              "      <th>price (including used books)</th>\n",
              "      <th>pages</th>\n",
              "      <th>avg_reviews</th>\n",
              "      <th>n_reviews</th>\n",
              "      <th>star5</th>\n",
              "      <th>star4</th>\n",
              "      <th>star3</th>\n",
              "      <th>star2</th>\n",
              "      <th>star1</th>\n",
              "      <th>dimensions</th>\n",
              "      <th>weight</th>\n",
              "      <th>language</th>\n",
              "      <th>publisher</th>\n",
              "      <th>ISBN_13</th>\n",
              "      <th>link</th>\n",
              "      <th>complete_link</th>\n",
              "    </tr>\n",
              "  </thead>\n",
              "  <tbody>\n",
              "    <tr>\n",
              "      <th>0</th>\n",
              "      <td>Data Analysis Using R (Low Priced Edition): A ...</td>\n",
              "      <td>[ Dr Dhaval Maheta]</td>\n",
              "      <td>6.75</td>\n",
              "      <td>6.75</td>\n",
              "      <td>500</td>\n",
              "      <td>4.4</td>\n",
              "      <td>23</td>\n",
              "      <td>55%</td>\n",
              "      <td>39%</td>\n",
              "      <td>6%</td>\n",
              "      <td>NaN</td>\n",
              "      <td>NaN</td>\n",
              "      <td>8.5 x 1.01 x 11 inches</td>\n",
              "      <td>2.53 pounds</td>\n",
              "      <td>English</td>\n",
              "      <td>Notion Press Media Pvt Ltd (November 22, 2021)</td>\n",
              "      <td>978-1685549596</td>\n",
              "      <td>/Data-Analysis-Using-Low-Priced/dp/1685549594/...</td>\n",
              "      <td>https://www.amazon.com/Data-Analysis-Using-Low...</td>\n",
              "    </tr>\n",
              "    <tr>\n",
              "      <th>1</th>\n",
              "      <td>Head First Data Analysis: A learner's guide to...</td>\n",
              "      <td>NaN</td>\n",
              "      <td>33.72</td>\n",
              "      <td>21.49 - 33.72</td>\n",
              "      <td>484</td>\n",
              "      <td>4.3</td>\n",
              "      <td>124</td>\n",
              "      <td>61%</td>\n",
              "      <td>20%</td>\n",
              "      <td>9%</td>\n",
              "      <td>4%</td>\n",
              "      <td>6%</td>\n",
              "      <td>8 x 0.98 x 9.25 inches</td>\n",
              "      <td>1.96 pounds</td>\n",
              "      <td>English</td>\n",
              "      <td>O'Reilly Media; 1st edition (August 18, 2009)</td>\n",
              "      <td>978-0596153939</td>\n",
              "      <td>/Head-First-Data-Analysis-statistics/dp/059615...</td>\n",
              "      <td>https://www.amazon.com/Head-First-Data-Analysi...</td>\n",
              "    </tr>\n",
              "    <tr>\n",
              "      <th>2</th>\n",
              "      <td>Guerrilla Data Analysis Using Microsoft Excel:...</td>\n",
              "      <td>[ Oz du Soleil,  and , Bill Jelen]</td>\n",
              "      <td>32.07</td>\n",
              "      <td>32.07</td>\n",
              "      <td>274</td>\n",
              "      <td>4.7</td>\n",
              "      <td>10</td>\n",
              "      <td>87%</td>\n",
              "      <td>13%</td>\n",
              "      <td>NaN</td>\n",
              "      <td>NaN</td>\n",
              "      <td>NaN</td>\n",
              "      <td>8.25 x 0.6 x 10.75 inches</td>\n",
              "      <td>1.4 pounds</td>\n",
              "      <td>English</td>\n",
              "      <td>Holy Macro! Books; Third edition (August 1, 2022)</td>\n",
              "      <td>978-1615470747</td>\n",
              "      <td>/Guerrilla-Analysis-Using-Microsoft-Excel/dp/1...</td>\n",
              "      <td>https://www.amazon.com/Guerrilla-Analysis-Usin...</td>\n",
              "    </tr>\n",
              "    <tr>\n",
              "      <th>3</th>\n",
              "      <td>Python for Data Analysis: Data Wrangling with ...</td>\n",
              "      <td>[ William McKinney]</td>\n",
              "      <td>53.99</td>\n",
              "      <td>53.99</td>\n",
              "      <td>547</td>\n",
              "      <td>4.6</td>\n",
              "      <td>1,686</td>\n",
              "      <td>75%</td>\n",
              "      <td>16%</td>\n",
              "      <td>5%</td>\n",
              "      <td>2%</td>\n",
              "      <td>2%</td>\n",
              "      <td>7 x 1.11 x 9.19 inches</td>\n",
              "      <td>1.47 pounds</td>\n",
              "      <td>English</td>\n",
              "      <td>O'Reilly Media; 2nd edition (November 14, 2017)</td>\n",
              "      <td>978-1491957660</td>\n",
              "      <td>/Python-Data-Analysis-Wrangling-IPython/dp/149...</td>\n",
              "      <td>https://www.amazon.com/Python-Data-Analysis-Wr...</td>\n",
              "    </tr>\n",
              "    <tr>\n",
              "      <th>4</th>\n",
              "      <td>Excel Data Analysis For Dummies (For Dummies (...</td>\n",
              "      <td>[ Paul McFedries]</td>\n",
              "      <td>24.49</td>\n",
              "      <td>24.49</td>\n",
              "      <td>368</td>\n",
              "      <td>3.9</td>\n",
              "      <td>12</td>\n",
              "      <td>52%</td>\n",
              "      <td>17%</td>\n",
              "      <td>10%</td>\n",
              "      <td>10%</td>\n",
              "      <td>10%</td>\n",
              "      <td>7.38 x 0.83 x 9.25 inches</td>\n",
              "      <td>1.3 pounds</td>\n",
              "      <td>English</td>\n",
              "      <td>For Dummies; 5th edition (February 3, 2022)</td>\n",
              "      <td>978-1119844426</td>\n",
              "      <td>/Excel-Data-Analysis-Dummies-Computer/dp/11198...</td>\n",
              "      <td>https://www.amazon.com/Excel-Data-Analysis-Dum...</td>\n",
              "    </tr>\n",
              "    <tr>\n",
              "      <th>...</th>\n",
              "      <td>...</td>\n",
              "      <td>...</td>\n",
              "      <td>...</td>\n",
              "      <td>...</td>\n",
              "      <td>...</td>\n",
              "      <td>...</td>\n",
              "      <td>...</td>\n",
              "      <td>...</td>\n",
              "      <td>...</td>\n",
              "      <td>...</td>\n",
              "      <td>...</td>\n",
              "      <td>...</td>\n",
              "      <td>...</td>\n",
              "      <td>...</td>\n",
              "      <td>...</td>\n",
              "      <td>...</td>\n",
              "      <td>...</td>\n",
              "      <td>...</td>\n",
              "      <td>...</td>\n",
              "    </tr>\n",
              "    <tr>\n",
              "      <th>825</th>\n",
              "      <td>Deep Learning: Engage the World Change the World</td>\n",
              "      <td>[ Michael Fullan, Joanne Quinn, et al.]</td>\n",
              "      <td>5.33</td>\n",
              "      <td>8.55 - 35.33</td>\n",
              "      <td>208</td>\n",
              "      <td>4.5</td>\n",
              "      <td>74</td>\n",
              "      <td>72%</td>\n",
              "      <td>14%</td>\n",
              "      <td>7%</td>\n",
              "      <td>2%</td>\n",
              "      <td>4%</td>\n",
              "      <td>7 x 0.47 x 10 inches</td>\n",
              "      <td>15.5 ounces</td>\n",
              "      <td>English</td>\n",
              "      <td>Corwin; First edition (December 15, 2017)</td>\n",
              "      <td>59</td>\n",
              "      <td>/Deep-Learning-Engage-World-Change/dp/15063685...</td>\n",
              "      <td>https://www.amazon.com/Deep-Learning-Engage-Wo...</td>\n",
              "    </tr>\n",
              "    <tr>\n",
              "      <th>826</th>\n",
              "      <td>Machine Learning in Finance: From Theory to Pr...</td>\n",
              "      <td>[ Matthew F. Dixon, Igor Halperin, et al.]</td>\n",
              "      <td>55.18</td>\n",
              "      <td>52.41 - 55.18</td>\n",
              "      <td>573</td>\n",
              "      <td>4.5</td>\n",
              "      <td>93</td>\n",
              "      <td>78%</td>\n",
              "      <td>7%</td>\n",
              "      <td>7%</td>\n",
              "      <td>4%</td>\n",
              "      <td>4%</td>\n",
              "      <td>6.14 x 1.25 x 9.21 inches</td>\n",
              "      <td>2.25 pounds</td>\n",
              "      <td>English</td>\n",
              "      <td>Springer; 1st ed. 2020 edition (July 2, 2020)</td>\n",
              "      <td></td>\n",
              "      <td>/Machine-Learning-Finance-Theory-Practice/dp/3...</td>\n",
              "      <td>https://www.amazon.com/Machine-Learning-Financ...</td>\n",
              "    </tr>\n",
              "    <tr>\n",
              "      <th>827</th>\n",
              "      <td>Practical Deep Learning at Scale with MLflow: ...</td>\n",
              "      <td>[ Yong Liu,  and , Dr. Matei Zaharia]</td>\n",
              "      <td>44.99</td>\n",
              "      <td>44.99</td>\n",
              "      <td>288</td>\n",
              "      <td>4.8</td>\n",
              "      <td>8</td>\n",
              "      <td>83%</td>\n",
              "      <td>17%</td>\n",
              "      <td>NaN</td>\n",
              "      <td>NaN</td>\n",
              "      <td>NaN</td>\n",
              "      <td>7.5 x 0.65 x 9.25 inches</td>\n",
              "      <td>1.1 pounds</td>\n",
              "      <td>English</td>\n",
              "      <td>Packt Publishing (July 8, 2022)</td>\n",
              "      <td>978-1803241333</td>\n",
              "      <td>/gp/slredirect/picassoRedirect.html/ref=pa_sp_...</td>\n",
              "      <td>https://www.amazon.com/gp/slredirect/picassoRe...</td>\n",
              "    </tr>\n",
              "    <tr>\n",
              "      <th>828</th>\n",
              "      <td>Clinical Biostatistics and Epidemiology Made R...</td>\n",
              "      <td>NaN</td>\n",
              "      <td>NaN</td>\n",
              "      <td>NaN</td>\n",
              "      <td>NaN</td>\n",
              "      <td>NaN</td>\n",
              "      <td>NaN</td>\n",
              "      <td>NaN</td>\n",
              "      <td>NaN</td>\n",
              "      <td>NaN</td>\n",
              "      <td>NaN</td>\n",
              "      <td>NaN</td>\n",
              "      <td>NaN</td>\n",
              "      <td>NaN</td>\n",
              "      <td>NaN</td>\n",
              "      <td>NaN</td>\n",
              "      <td>NaN</td>\n",
              "      <td>/Clinical-Biostatistics-Epidemiology-Ridiculou...</td>\n",
              "      <td>https://www.amazon.com/Clinical-Biostatistics-...</td>\n",
              "    </tr>\n",
              "    <tr>\n",
              "      <th>829</th>\n",
              "      <td>AI and Machine Learning for Coders: A Programm...</td>\n",
              "      <td>[ Laurence Moroney]</td>\n",
              "      <td>38.49</td>\n",
              "      <td>38.49</td>\n",
              "      <td>NaN</td>\n",
              "      <td>4.7</td>\n",
              "      <td>142</td>\n",
              "      <td>79%</td>\n",
              "      <td>15%</td>\n",
              "      <td>4%</td>\n",
              "      <td>1%</td>\n",
              "      <td>1%</td>\n",
              "      <td>NaN</td>\n",
              "      <td>NaN</td>\n",
              "      <td>NaN</td>\n",
              "      <td>NaN</td>\n",
              "      <td></td>\n",
              "      <td>/Machine-Learning-Coders-Programmers-Intellige...</td>\n",
              "      <td>https://www.amazon.com/Machine-Learning-Coders...</td>\n",
              "    </tr>\n",
              "  </tbody>\n",
              "</table>\n",
              "<p>830 rows × 19 columns</p>\n",
              "</div>\n",
              "    <div class=\"colab-df-buttons\">\n",
              "\n",
              "  <div class=\"colab-df-container\">\n",
              "    <button class=\"colab-df-convert\" onclick=\"convertToInteractive('df-a0c76bb5-2360-4a4c-bea1-fb6458b870d5')\"\n",
              "            title=\"Convert this dataframe to an interactive table.\"\n",
              "            style=\"display:none;\">\n",
              "\n",
              "  <svg xmlns=\"http://www.w3.org/2000/svg\" height=\"24px\" viewBox=\"0 -960 960 960\">\n",
              "    <path d=\"M120-120v-720h720v720H120Zm60-500h600v-160H180v160Zm220 220h160v-160H400v160Zm0 220h160v-160H400v160ZM180-400h160v-160H180v160Zm440 0h160v-160H620v160ZM180-180h160v-160H180v160Zm440 0h160v-160H620v160Z\"/>\n",
              "  </svg>\n",
              "    </button>\n",
              "\n",
              "  <style>\n",
              "    .colab-df-container {\n",
              "      display:flex;\n",
              "      gap: 12px;\n",
              "    }\n",
              "\n",
              "    .colab-df-convert {\n",
              "      background-color: #E8F0FE;\n",
              "      border: none;\n",
              "      border-radius: 50%;\n",
              "      cursor: pointer;\n",
              "      display: none;\n",
              "      fill: #1967D2;\n",
              "      height: 32px;\n",
              "      padding: 0 0 0 0;\n",
              "      width: 32px;\n",
              "    }\n",
              "\n",
              "    .colab-df-convert:hover {\n",
              "      background-color: #E2EBFA;\n",
              "      box-shadow: 0px 1px 2px rgba(60, 64, 67, 0.3), 0px 1px 3px 1px rgba(60, 64, 67, 0.15);\n",
              "      fill: #174EA6;\n",
              "    }\n",
              "\n",
              "    .colab-df-buttons div {\n",
              "      margin-bottom: 4px;\n",
              "    }\n",
              "\n",
              "    [theme=dark] .colab-df-convert {\n",
              "      background-color: #3B4455;\n",
              "      fill: #D2E3FC;\n",
              "    }\n",
              "\n",
              "    [theme=dark] .colab-df-convert:hover {\n",
              "      background-color: #434B5C;\n",
              "      box-shadow: 0px 1px 3px 1px rgba(0, 0, 0, 0.15);\n",
              "      filter: drop-shadow(0px 1px 2px rgba(0, 0, 0, 0.3));\n",
              "      fill: #FFFFFF;\n",
              "    }\n",
              "  </style>\n",
              "\n",
              "    <script>\n",
              "      const buttonEl =\n",
              "        document.querySelector('#df-a0c76bb5-2360-4a4c-bea1-fb6458b870d5 button.colab-df-convert');\n",
              "      buttonEl.style.display =\n",
              "        google.colab.kernel.accessAllowed ? 'block' : 'none';\n",
              "\n",
              "      async function convertToInteractive(key) {\n",
              "        const element = document.querySelector('#df-a0c76bb5-2360-4a4c-bea1-fb6458b870d5');\n",
              "        const dataTable =\n",
              "          await google.colab.kernel.invokeFunction('convertToInteractive',\n",
              "                                                    [key], {});\n",
              "        if (!dataTable) return;\n",
              "\n",
              "        const docLinkHtml = 'Like what you see? Visit the ' +\n",
              "          '<a target=\"_blank\" href=https://colab.research.google.com/notebooks/data_table.ipynb>data table notebook</a>'\n",
              "          + ' to learn more about interactive tables.';\n",
              "        element.innerHTML = '';\n",
              "        dataTable['output_type'] = 'display_data';\n",
              "        await google.colab.output.renderOutput(dataTable, element);\n",
              "        const docLink = document.createElement('div');\n",
              "        docLink.innerHTML = docLinkHtml;\n",
              "        element.appendChild(docLink);\n",
              "      }\n",
              "    </script>\n",
              "  </div>\n",
              "\n",
              "\n",
              "<div id=\"df-9ce72fe2-90b9-4384-b84e-10a1dc603883\">\n",
              "  <button class=\"colab-df-quickchart\" onclick=\"quickchart('df-9ce72fe2-90b9-4384-b84e-10a1dc603883')\"\n",
              "            title=\"Suggest charts\"\n",
              "            style=\"display:none;\">\n",
              "\n",
              "<svg xmlns=\"http://www.w3.org/2000/svg\" height=\"24px\"viewBox=\"0 0 24 24\"\n",
              "     width=\"24px\">\n",
              "    <g>\n",
              "        <path d=\"M19 3H5c-1.1 0-2 .9-2 2v14c0 1.1.9 2 2 2h14c1.1 0 2-.9 2-2V5c0-1.1-.9-2-2-2zM9 17H7v-7h2v7zm4 0h-2V7h2v10zm4 0h-2v-4h2v4z\"/>\n",
              "    </g>\n",
              "</svg>\n",
              "  </button>\n",
              "\n",
              "<style>\n",
              "  .colab-df-quickchart {\n",
              "      --bg-color: #E8F0FE;\n",
              "      --fill-color: #1967D2;\n",
              "      --hover-bg-color: #E2EBFA;\n",
              "      --hover-fill-color: #174EA6;\n",
              "      --disabled-fill-color: #AAA;\n",
              "      --disabled-bg-color: #DDD;\n",
              "  }\n",
              "\n",
              "  [theme=dark] .colab-df-quickchart {\n",
              "      --bg-color: #3B4455;\n",
              "      --fill-color: #D2E3FC;\n",
              "      --hover-bg-color: #434B5C;\n",
              "      --hover-fill-color: #FFFFFF;\n",
              "      --disabled-bg-color: #3B4455;\n",
              "      --disabled-fill-color: #666;\n",
              "  }\n",
              "\n",
              "  .colab-df-quickchart {\n",
              "    background-color: var(--bg-color);\n",
              "    border: none;\n",
              "    border-radius: 50%;\n",
              "    cursor: pointer;\n",
              "    display: none;\n",
              "    fill: var(--fill-color);\n",
              "    height: 32px;\n",
              "    padding: 0;\n",
              "    width: 32px;\n",
              "  }\n",
              "\n",
              "  .colab-df-quickchart:hover {\n",
              "    background-color: var(--hover-bg-color);\n",
              "    box-shadow: 0 1px 2px rgba(60, 64, 67, 0.3), 0 1px 3px 1px rgba(60, 64, 67, 0.15);\n",
              "    fill: var(--button-hover-fill-color);\n",
              "  }\n",
              "\n",
              "  .colab-df-quickchart-complete:disabled,\n",
              "  .colab-df-quickchart-complete:disabled:hover {\n",
              "    background-color: var(--disabled-bg-color);\n",
              "    fill: var(--disabled-fill-color);\n",
              "    box-shadow: none;\n",
              "  }\n",
              "\n",
              "  .colab-df-spinner {\n",
              "    border: 2px solid var(--fill-color);\n",
              "    border-color: transparent;\n",
              "    border-bottom-color: var(--fill-color);\n",
              "    animation:\n",
              "      spin 1s steps(1) infinite;\n",
              "  }\n",
              "\n",
              "  @keyframes spin {\n",
              "    0% {\n",
              "      border-color: transparent;\n",
              "      border-bottom-color: var(--fill-color);\n",
              "      border-left-color: var(--fill-color);\n",
              "    }\n",
              "    20% {\n",
              "      border-color: transparent;\n",
              "      border-left-color: var(--fill-color);\n",
              "      border-top-color: var(--fill-color);\n",
              "    }\n",
              "    30% {\n",
              "      border-color: transparent;\n",
              "      border-left-color: var(--fill-color);\n",
              "      border-top-color: var(--fill-color);\n",
              "      border-right-color: var(--fill-color);\n",
              "    }\n",
              "    40% {\n",
              "      border-color: transparent;\n",
              "      border-right-color: var(--fill-color);\n",
              "      border-top-color: var(--fill-color);\n",
              "    }\n",
              "    60% {\n",
              "      border-color: transparent;\n",
              "      border-right-color: var(--fill-color);\n",
              "    }\n",
              "    80% {\n",
              "      border-color: transparent;\n",
              "      border-right-color: var(--fill-color);\n",
              "      border-bottom-color: var(--fill-color);\n",
              "    }\n",
              "    90% {\n",
              "      border-color: transparent;\n",
              "      border-bottom-color: var(--fill-color);\n",
              "    }\n",
              "  }\n",
              "</style>\n",
              "\n",
              "  <script>\n",
              "    async function quickchart(key) {\n",
              "      const quickchartButtonEl =\n",
              "        document.querySelector('#' + key + ' button');\n",
              "      quickchartButtonEl.disabled = true;  // To prevent multiple clicks.\n",
              "      quickchartButtonEl.classList.add('colab-df-spinner');\n",
              "      try {\n",
              "        const charts = await google.colab.kernel.invokeFunction(\n",
              "            'suggestCharts', [key], {});\n",
              "      } catch (error) {\n",
              "        console.error('Error during call to suggestCharts:', error);\n",
              "      }\n",
              "      quickchartButtonEl.classList.remove('colab-df-spinner');\n",
              "      quickchartButtonEl.classList.add('colab-df-quickchart-complete');\n",
              "    }\n",
              "    (() => {\n",
              "      let quickchartButtonEl =\n",
              "        document.querySelector('#df-9ce72fe2-90b9-4384-b84e-10a1dc603883 button');\n",
              "      quickchartButtonEl.style.display =\n",
              "        google.colab.kernel.accessAllowed ? 'block' : 'none';\n",
              "    })();\n",
              "  </script>\n",
              "</div>\n",
              "    </div>\n",
              "  </div>\n"
            ]
          },
          "metadata": {},
          "execution_count": 5
        }
      ]
    },
    {
      "cell_type": "code",
      "source": [
        "X = df[['price', 'pages']].dropna().values"
      ],
      "metadata": {
        "id": "VRUXmepgjdbt"
      },
      "execution_count": null,
      "outputs": []
    },
    {
      "cell_type": "code",
      "source": [
        "import matplotlib.colors as mcolors\n",
        "from sklearn.cluster import KMeans\n",
        "from scipy.cluster.vq import kmeans, vq\n",
        "import random\n",
        "random.seed(42)\n",
        "\n",
        "def kmeans_display(X, labels, k):\n",
        "    color = list(mcolors.XKCD_COLORS.keys())\n",
        "    plt.title(f'K = {k}', fontsize=10)\n",
        "    sns.scatterplot(x=X[:, 0], y=X[:, 1], hue=labels, palette='deep', legend=False)\n",
        "    centroids = k_means.cluster_centers_\n",
        "    plt.plot(centroids[:, 0], centroids[:, 1], 'sr', markersize=8 )\n",
        "\n",
        "fig = plt.figure(figsize=(15, 7))\n",
        "rows, cols = 2, 3\n",
        "for k in range(2, rows * cols + 2):\n",
        "    fig.add_subplot(rows, cols, k-1)\n",
        "    k_means = KMeans(n_clusters=k, random_state=42, n_init='auto').fit(X)\n",
        "    pred_label = k_means.predict(X)\n",
        "    kmeans_display(X, pred_label, k)\n",
        "    fig.tight_layout()\n",
        "fig.savefig('kmeans.pdf', bbox_inches='tight')"
      ],
      "metadata": {
        "id": "ztMYm8OiWyXp",
        "colab": {
          "base_uri": "https://localhost:8080/",
          "height": 702
        },
        "outputId": "1b800f52-238d-4e3f-b460-ad8770400e36"
      },
      "execution_count": null,
      "outputs": [
        {
          "output_type": "error",
          "ename": "ValueError",
          "evalue": "ignored",
          "traceback": [
            "\u001b[0;31m---------------------------------------------------------------------------\u001b[0m",
            "\u001b[0;31mValueError\u001b[0m                                Traceback (most recent call last)",
            "\u001b[0;32m<ipython-input-7-6d7c62bde609>\u001b[0m in \u001b[0;36m<cell line: 16>\u001b[0;34m()\u001b[0m\n\u001b[1;32m     16\u001b[0m \u001b[0;32mfor\u001b[0m \u001b[0mk\u001b[0m \u001b[0;32min\u001b[0m \u001b[0mrange\u001b[0m\u001b[0;34m(\u001b[0m\u001b[0;36m2\u001b[0m\u001b[0;34m,\u001b[0m \u001b[0mrows\u001b[0m \u001b[0;34m*\u001b[0m \u001b[0mcols\u001b[0m \u001b[0;34m+\u001b[0m \u001b[0;36m2\u001b[0m\u001b[0;34m)\u001b[0m\u001b[0;34m:\u001b[0m\u001b[0;34m\u001b[0m\u001b[0;34m\u001b[0m\u001b[0m\n\u001b[1;32m     17\u001b[0m     \u001b[0mfig\u001b[0m\u001b[0;34m.\u001b[0m\u001b[0madd_subplot\u001b[0m\u001b[0;34m(\u001b[0m\u001b[0mrows\u001b[0m\u001b[0;34m,\u001b[0m \u001b[0mcols\u001b[0m\u001b[0;34m,\u001b[0m \u001b[0mk\u001b[0m\u001b[0;34m-\u001b[0m\u001b[0;36m1\u001b[0m\u001b[0;34m)\u001b[0m\u001b[0;34m\u001b[0m\u001b[0;34m\u001b[0m\u001b[0m\n\u001b[0;32m---> 18\u001b[0;31m     \u001b[0mk_means\u001b[0m \u001b[0;34m=\u001b[0m \u001b[0mKMeans\u001b[0m\u001b[0;34m(\u001b[0m\u001b[0mn_clusters\u001b[0m\u001b[0;34m=\u001b[0m\u001b[0mk\u001b[0m\u001b[0;34m,\u001b[0m \u001b[0mrandom_state\u001b[0m\u001b[0;34m=\u001b[0m\u001b[0;36m42\u001b[0m\u001b[0;34m,\u001b[0m \u001b[0mn_init\u001b[0m\u001b[0;34m=\u001b[0m\u001b[0;34m'auto'\u001b[0m\u001b[0;34m)\u001b[0m\u001b[0;34m.\u001b[0m\u001b[0mfit\u001b[0m\u001b[0;34m(\u001b[0m\u001b[0mX\u001b[0m\u001b[0;34m)\u001b[0m\u001b[0;34m\u001b[0m\u001b[0;34m\u001b[0m\u001b[0m\n\u001b[0m\u001b[1;32m     19\u001b[0m     \u001b[0mpred_label\u001b[0m \u001b[0;34m=\u001b[0m \u001b[0mk_means\u001b[0m\u001b[0;34m.\u001b[0m\u001b[0mpredict\u001b[0m\u001b[0;34m(\u001b[0m\u001b[0mX\u001b[0m\u001b[0;34m)\u001b[0m\u001b[0;34m\u001b[0m\u001b[0;34m\u001b[0m\u001b[0m\n\u001b[1;32m     20\u001b[0m     \u001b[0mkmeans_display\u001b[0m\u001b[0;34m(\u001b[0m\u001b[0mX\u001b[0m\u001b[0;34m,\u001b[0m \u001b[0mpred_label\u001b[0m\u001b[0;34m,\u001b[0m \u001b[0mk\u001b[0m\u001b[0;34m)\u001b[0m\u001b[0;34m\u001b[0m\u001b[0;34m\u001b[0m\u001b[0m\n",
            "\u001b[0;32m/usr/local/lib/python3.10/dist-packages/sklearn/cluster/_kmeans.py\u001b[0m in \u001b[0;36mfit\u001b[0;34m(self, X, y, sample_weight)\u001b[0m\n\u001b[1;32m   1415\u001b[0m         \u001b[0mself\u001b[0m\u001b[0;34m.\u001b[0m\u001b[0m_validate_params\u001b[0m\u001b[0;34m(\u001b[0m\u001b[0;34m)\u001b[0m\u001b[0;34m\u001b[0m\u001b[0;34m\u001b[0m\u001b[0m\n\u001b[1;32m   1416\u001b[0m \u001b[0;34m\u001b[0m\u001b[0m\n\u001b[0;32m-> 1417\u001b[0;31m         X = self._validate_data(\n\u001b[0m\u001b[1;32m   1418\u001b[0m             \u001b[0mX\u001b[0m\u001b[0;34m,\u001b[0m\u001b[0;34m\u001b[0m\u001b[0;34m\u001b[0m\u001b[0m\n\u001b[1;32m   1419\u001b[0m             \u001b[0maccept_sparse\u001b[0m\u001b[0;34m=\u001b[0m\u001b[0;34m\"csr\"\u001b[0m\u001b[0;34m,\u001b[0m\u001b[0;34m\u001b[0m\u001b[0;34m\u001b[0m\u001b[0m\n",
            "\u001b[0;32m/usr/local/lib/python3.10/dist-packages/sklearn/base.py\u001b[0m in \u001b[0;36m_validate_data\u001b[0;34m(self, X, y, reset, validate_separately, **check_params)\u001b[0m\n\u001b[1;32m    563\u001b[0m             \u001b[0;32mraise\u001b[0m \u001b[0mValueError\u001b[0m\u001b[0;34m(\u001b[0m\u001b[0;34m\"Validation should be done on X, y or both.\"\u001b[0m\u001b[0;34m)\u001b[0m\u001b[0;34m\u001b[0m\u001b[0;34m\u001b[0m\u001b[0m\n\u001b[1;32m    564\u001b[0m         \u001b[0;32melif\u001b[0m \u001b[0;32mnot\u001b[0m \u001b[0mno_val_X\u001b[0m \u001b[0;32mand\u001b[0m \u001b[0mno_val_y\u001b[0m\u001b[0;34m:\u001b[0m\u001b[0;34m\u001b[0m\u001b[0;34m\u001b[0m\u001b[0m\n\u001b[0;32m--> 565\u001b[0;31m             \u001b[0mX\u001b[0m \u001b[0;34m=\u001b[0m \u001b[0mcheck_array\u001b[0m\u001b[0;34m(\u001b[0m\u001b[0mX\u001b[0m\u001b[0;34m,\u001b[0m \u001b[0minput_name\u001b[0m\u001b[0;34m=\u001b[0m\u001b[0;34m\"X\"\u001b[0m\u001b[0;34m,\u001b[0m \u001b[0;34m**\u001b[0m\u001b[0mcheck_params\u001b[0m\u001b[0;34m)\u001b[0m\u001b[0;34m\u001b[0m\u001b[0;34m\u001b[0m\u001b[0m\n\u001b[0m\u001b[1;32m    566\u001b[0m             \u001b[0mout\u001b[0m \u001b[0;34m=\u001b[0m \u001b[0mX\u001b[0m\u001b[0;34m\u001b[0m\u001b[0;34m\u001b[0m\u001b[0m\n\u001b[1;32m    567\u001b[0m         \u001b[0;32melif\u001b[0m \u001b[0mno_val_X\u001b[0m \u001b[0;32mand\u001b[0m \u001b[0;32mnot\u001b[0m \u001b[0mno_val_y\u001b[0m\u001b[0;34m:\u001b[0m\u001b[0;34m\u001b[0m\u001b[0;34m\u001b[0m\u001b[0m\n",
            "\u001b[0;32m/usr/local/lib/python3.10/dist-packages/sklearn/utils/validation.py\u001b[0m in \u001b[0;36mcheck_array\u001b[0;34m(array, accept_sparse, accept_large_sparse, dtype, order, copy, force_all_finite, ensure_2d, allow_nd, ensure_min_samples, ensure_min_features, estimator, input_name)\u001b[0m\n\u001b[1;32m    877\u001b[0m                     \u001b[0marray\u001b[0m \u001b[0;34m=\u001b[0m \u001b[0mxp\u001b[0m\u001b[0;34m.\u001b[0m\u001b[0mastype\u001b[0m\u001b[0;34m(\u001b[0m\u001b[0marray\u001b[0m\u001b[0;34m,\u001b[0m \u001b[0mdtype\u001b[0m\u001b[0;34m,\u001b[0m \u001b[0mcopy\u001b[0m\u001b[0;34m=\u001b[0m\u001b[0;32mFalse\u001b[0m\u001b[0;34m)\u001b[0m\u001b[0;34m\u001b[0m\u001b[0;34m\u001b[0m\u001b[0m\n\u001b[1;32m    878\u001b[0m                 \u001b[0;32melse\u001b[0m\u001b[0;34m:\u001b[0m\u001b[0;34m\u001b[0m\u001b[0;34m\u001b[0m\u001b[0m\n\u001b[0;32m--> 879\u001b[0;31m                     \u001b[0marray\u001b[0m \u001b[0;34m=\u001b[0m \u001b[0m_asarray_with_order\u001b[0m\u001b[0;34m(\u001b[0m\u001b[0marray\u001b[0m\u001b[0;34m,\u001b[0m \u001b[0morder\u001b[0m\u001b[0;34m=\u001b[0m\u001b[0morder\u001b[0m\u001b[0;34m,\u001b[0m \u001b[0mdtype\u001b[0m\u001b[0;34m=\u001b[0m\u001b[0mdtype\u001b[0m\u001b[0;34m,\u001b[0m \u001b[0mxp\u001b[0m\u001b[0;34m=\u001b[0m\u001b[0mxp\u001b[0m\u001b[0;34m)\u001b[0m\u001b[0;34m\u001b[0m\u001b[0;34m\u001b[0m\u001b[0m\n\u001b[0m\u001b[1;32m    880\u001b[0m             \u001b[0;32mexcept\u001b[0m \u001b[0mComplexWarning\u001b[0m \u001b[0;32mas\u001b[0m \u001b[0mcomplex_warning\u001b[0m\u001b[0;34m:\u001b[0m\u001b[0;34m\u001b[0m\u001b[0;34m\u001b[0m\u001b[0m\n\u001b[1;32m    881\u001b[0m                 raise ValueError(\n",
            "\u001b[0;32m/usr/local/lib/python3.10/dist-packages/sklearn/utils/_array_api.py\u001b[0m in \u001b[0;36m_asarray_with_order\u001b[0;34m(array, dtype, order, copy, xp)\u001b[0m\n\u001b[1;32m    183\u001b[0m     \u001b[0;32mif\u001b[0m \u001b[0mxp\u001b[0m\u001b[0;34m.\u001b[0m\u001b[0m__name__\u001b[0m \u001b[0;32min\u001b[0m \u001b[0;34m{\u001b[0m\u001b[0;34m\"numpy\"\u001b[0m\u001b[0;34m,\u001b[0m \u001b[0;34m\"numpy.array_api\"\u001b[0m\u001b[0;34m}\u001b[0m\u001b[0;34m:\u001b[0m\u001b[0;34m\u001b[0m\u001b[0;34m\u001b[0m\u001b[0m\n\u001b[1;32m    184\u001b[0m         \u001b[0;31m# Use NumPy API to support order\u001b[0m\u001b[0;34m\u001b[0m\u001b[0;34m\u001b[0m\u001b[0m\n\u001b[0;32m--> 185\u001b[0;31m         \u001b[0marray\u001b[0m \u001b[0;34m=\u001b[0m \u001b[0mnumpy\u001b[0m\u001b[0;34m.\u001b[0m\u001b[0masarray\u001b[0m\u001b[0;34m(\u001b[0m\u001b[0marray\u001b[0m\u001b[0;34m,\u001b[0m \u001b[0morder\u001b[0m\u001b[0;34m=\u001b[0m\u001b[0morder\u001b[0m\u001b[0;34m,\u001b[0m \u001b[0mdtype\u001b[0m\u001b[0;34m=\u001b[0m\u001b[0mdtype\u001b[0m\u001b[0;34m)\u001b[0m\u001b[0;34m\u001b[0m\u001b[0;34m\u001b[0m\u001b[0m\n\u001b[0m\u001b[1;32m    186\u001b[0m         \u001b[0;32mreturn\u001b[0m \u001b[0mxp\u001b[0m\u001b[0;34m.\u001b[0m\u001b[0masarray\u001b[0m\u001b[0;34m(\u001b[0m\u001b[0marray\u001b[0m\u001b[0;34m,\u001b[0m \u001b[0mcopy\u001b[0m\u001b[0;34m=\u001b[0m\u001b[0mcopy\u001b[0m\u001b[0;34m)\u001b[0m\u001b[0;34m\u001b[0m\u001b[0;34m\u001b[0m\u001b[0m\n\u001b[1;32m    187\u001b[0m     \u001b[0;32melse\u001b[0m\u001b[0;34m:\u001b[0m\u001b[0;34m\u001b[0m\u001b[0;34m\u001b[0m\u001b[0m\n",
            "\u001b[0;31mValueError\u001b[0m: could not convert string to float: 'Explores all features and functions in two-color  packed with screenshots, numbered steps, and other visual graphics that clearly show you how to accomplish tasks'"
          ]
        },
        {
          "output_type": "display_data",
          "data": {
            "text/plain": [
              "<Figure size 1500x700 with 1 Axes>"
            ],
            "image/png": "[encoded data removed]"
          },
          "metadata": {}
        }
      ]
    },
    {
      "cell_type": "code",
      "source": [
        "# from sklearn.cluster import KMeans\n",
        "# random.seed(42)\n",
        "# fig = plt.figure(figsize=(10, 7))\n",
        "# rows, cols = 2, 2\n",
        "\n",
        "# for k in range(2, rows * cols + 2):\n",
        "#     fig.add_subplot(rows, cols, k-1)\n",
        "#     kmeans = KMeans(n_clusters=k, random_state=42, n_init='auto').fit(X)\n",
        "#     print('Centers found by scikit-learn:')\n",
        "#     print(kmeans.cluster_centers_)\n",
        "#     pred_label = kmeans.predict(X)\n",
        "#     kmeans_display(X, pred_label, k)\n",
        "# fig.savefig('kmeans.pdf', bbox_inches='tight')"
      ],
      "metadata": {
        "id": "-ecXcIwl4qbe"
      },
      "execution_count": null,
      "outputs": []
    },
    {
      "cell_type": "code",
      "source": [
        "# X = data\n",
        "distortions = []\n",
        "for k in range(2, 30):\n",
        "    k_means = KMeans(n_clusters=k, random_state=42, n_init='auto')\n",
        "    k_means.fit(X)\n",
        "    distortions.append(k_means.inertia_)\n",
        "\n",
        "fig = plt.figure(figsize=(7, 5))\n",
        "plt.plot(range(2, 30), distortions, 'bx-')\n",
        "plt.title(\"Elbow Curve\")\n",
        "plt.savefig(\"elbow_curve.pdf\", bbox_inches='tight')"
      ],
      "metadata": {
        "id": "mhhHwfIbSktm",
        "colab": {
          "base_uri": "https://localhost:8080/",
          "height": 468
        },
        "outputId": "c55b6e74-97ec-47ba-ab19-30dc7e7a95fc"
      },
      "execution_count": null,
      "outputs": [
        {
          "output_type": "display_data",
          "data": {
            "text/plain": [
              "<Figure size 700x500 with 1 Axes>"
            ],
            "image/png": "[encoded data removed]"
          },
          "metadata": {}
        }
      ]
    },
    {
      "cell_type": "code",
      "source": [
        "a = df[['price', 'n_reviews']].dropna()\n",
        "a.idxmax()"
      ],
      "metadata": {
        "id": "ebLYZv-YrEAY",
        "colab": {
          "base_uri": "https://localhost:8080/"
        },
        "outputId": "c07bdbfa-e2a4-4fb1-cb6c-a2ede33299d4"
      },
      "execution_count": null,
      "outputs": [
        {
          "output_type": "execute_result",
          "data": {
            "text/plain": [
              "price        734\n",
              "n_reviews    138\n",
              "dtype: int64"
            ]
          },
          "metadata": {},
          "execution_count": 41
        }
      ]
    },
    {
      "cell_type": "code",
      "source": [
        "a.idxmax()"
      ],
      "metadata": {
        "id": "6rjygfYxr_oU",
        "colab": {
          "base_uri": "https://localhost:8080/"
        },
        "outputId": "34e7abb2-10f4-4d42-c696-c45d376afe97"
      },
      "execution_count": null,
      "outputs": [
        {
          "output_type": "execute_result",
          "data": {
            "text/plain": [
              "price        734\n",
              "n_reviews    138\n",
              "dtype: int64"
            ]
          },
          "metadata": {},
          "execution_count": 42
        }
      ]
    },
    {
      "cell_type": "code",
      "source": [
        "a.drop(677, inplace=True)\n",
        "a.drop(22, inplace=True)"
      ],
      "metadata": {
        "id": "rC4Of_lqrc2X"
      },
      "execution_count": null,
      "outputs": []
    },
    {
      "cell_type": "code",
      "source": [
        "X = a.values"
      ],
      "metadata": {
        "id": "yLpp9N26ry6z"
      },
      "execution_count": null,
      "outputs": []
    },
    {
      "cell_type": "code",
      "source": [
        "import matplotlib.colors as mcolors\n",
        "from sklearn.cluster import KMeans\n",
        "from scipy.cluster.vq import kmeans, vq\n",
        "random.seed(42)\n",
        "\n",
        "def kmeans_display(X, labels, k):\n",
        "    color = list(mcolors.XKCD_COLORS.keys())\n",
        "    plt.title(f'K = {k}', fontsize=10)\n",
        "    sns.scatterplot(x=X[:, 0], y=X[:, 1], hue=labels, palette='deep', legend=False)\n",
        "    centroids = k_means.cluster_centers_\n",
        "    plt.plot(centroids[:, 0], centroids[:, 1], 'sg', markersize=8 )\n",
        "\n",
        "fig = plt.figure(figsize=(12, 7))\n",
        "rows, cols = 2, 3\n",
        "for k in range(2, rows * cols + 2):\n",
        "    fig.add_subplot(rows, cols, k-1)\n",
        "    k_means = KMeans(n_clusters=k, random_state=42, n_init='auto').fit(X)\n",
        "    pred_label = k_means.predict(X)\n",
        "    kmeans_display(X, pred_label, k)\n",
        "    fig.tight_layout()\n",
        "fig.savefig('kmeans_remove_outliers.pdf', bbox_inches='tight')"
      ],
      "metadata": {
        "id": "0q9BQU6brvLc",
        "colab": {
          "base_uri": "https://localhost:8080/",
          "height": 689
        },
        "outputId": "9e170f2c-ee23-4d1d-c038-08cec05cc019"
      },
      "execution_count": null,
      "outputs": [
        {
          "output_type": "display_data",
          "data": {
            "text/plain": [
              "<Figure size 1200x700 with 6 Axes>"
            ],
            "image/png": "[encoded data removed]"
          },
          "metadata": {}
        }
      ]
    },
    {
      "cell_type": "markdown",
      "source": [
        "## 2. Phân lớp dữ liệu"
      ],
      "metadata": {
        "id": "aLxIzx91W3Qp"
      }
    },
    {
      "cell_type": "code",
      "source": [],
      "metadata": {
        "id": "rsvs1vjmW6GR"
      },
      "execution_count": null,
      "outputs": []
    },
    {
      "cell_type": "markdown",
      "source": [
        "## 3. Dự báo từ kết quả phân lớp dữ liệu đạt được."
      ],
      "metadata": {
        "id": "qiFAXq2iW6ih"
      }
    },
    {
      "cell_type": "code",
      "source": [],
      "metadata": {
        "id": "EyE0dovBW88i"
      },
      "execution_count": null,
      "outputs": []
    }
  ]
}